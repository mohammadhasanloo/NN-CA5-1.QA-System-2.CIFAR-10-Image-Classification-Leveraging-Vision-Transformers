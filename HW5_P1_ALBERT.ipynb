{
  "nbformat": 4,
  "nbformat_minor": 0,
  "metadata": {
    "colab": {
      "provenance": [],
      "gpuType": "T4"
    },
    "kernelspec": {
      "name": "python3",
      "display_name": "Python 3"
    },
    "language_info": {
      "name": "python"
    },
    "accelerator": "GPU",
    "widgets": {
      "application/vnd.jupyter.widget-state+json": {
        "7cb3cc0a0dec4d09aeae0e9b09ff36c3": {
          "model_module": "@jupyter-widgets/controls",
          "model_name": "HBoxModel",
          "model_module_version": "1.5.0",
          "state": {
            "_dom_classes": [],
            "_model_module": "@jupyter-widgets/controls",
            "_model_module_version": "1.5.0",
            "_model_name": "HBoxModel",
            "_view_count": null,
            "_view_module": "@jupyter-widgets/controls",
            "_view_module_version": "1.5.0",
            "_view_name": "HBoxView",
            "box_style": "",
            "children": [
              "IPY_MODEL_408204f253514b44825827afb9747ea8",
              "IPY_MODEL_5ede66c14d374d648642b57d0bb49101",
              "IPY_MODEL_e86e0645bc644f2a8a51eaa9d1dda943"
            ],
            "layout": "IPY_MODEL_19c0bc714c924d67a70aa88cb0d18a89"
          }
        },
        "408204f253514b44825827afb9747ea8": {
          "model_module": "@jupyter-widgets/controls",
          "model_name": "HTMLModel",
          "model_module_version": "1.5.0",
          "state": {
            "_dom_classes": [],
            "_model_module": "@jupyter-widgets/controls",
            "_model_module_version": "1.5.0",
            "_model_name": "HTMLModel",
            "_view_count": null,
            "_view_module": "@jupyter-widgets/controls",
            "_view_module_version": "1.5.0",
            "_view_name": "HTMLView",
            "description": "",
            "description_tooltip": null,
            "layout": "IPY_MODEL_af7170b7d7154e5a9c513ebd5c0f1ab3",
            "placeholder": "​",
            "style": "IPY_MODEL_0536ce0a503842c9828838196cece389",
            "value": "Downloading (…)lve/main/config.json: 100%"
          }
        },
        "5ede66c14d374d648642b57d0bb49101": {
          "model_module": "@jupyter-widgets/controls",
          "model_name": "FloatProgressModel",
          "model_module_version": "1.5.0",
          "state": {
            "_dom_classes": [],
            "_model_module": "@jupyter-widgets/controls",
            "_model_module_version": "1.5.0",
            "_model_name": "FloatProgressModel",
            "_view_count": null,
            "_view_module": "@jupyter-widgets/controls",
            "_view_module_version": "1.5.0",
            "_view_name": "ProgressView",
            "bar_style": "success",
            "description": "",
            "description_tooltip": null,
            "layout": "IPY_MODEL_8a1e1ee4f31649a8beb3b5b7632db38a",
            "max": 684,
            "min": 0,
            "orientation": "horizontal",
            "style": "IPY_MODEL_0409a71909ec4afdaa6b1a749c36f0ad",
            "value": 684
          }
        },
        "e86e0645bc644f2a8a51eaa9d1dda943": {
          "model_module": "@jupyter-widgets/controls",
          "model_name": "HTMLModel",
          "model_module_version": "1.5.0",
          "state": {
            "_dom_classes": [],
            "_model_module": "@jupyter-widgets/controls",
            "_model_module_version": "1.5.0",
            "_model_name": "HTMLModel",
            "_view_count": null,
            "_view_module": "@jupyter-widgets/controls",
            "_view_module_version": "1.5.0",
            "_view_name": "HTMLView",
            "description": "",
            "description_tooltip": null,
            "layout": "IPY_MODEL_ab8405d56cec415db035275636407446",
            "placeholder": "​",
            "style": "IPY_MODEL_1e0bcd26f3734679bb320dc847b23970",
            "value": " 684/684 [00:00&lt;00:00, 37.4kB/s]"
          }
        },
        "19c0bc714c924d67a70aa88cb0d18a89": {
          "model_module": "@jupyter-widgets/base",
          "model_name": "LayoutModel",
          "model_module_version": "1.2.0",
          "state": {
            "_model_module": "@jupyter-widgets/base",
            "_model_module_version": "1.2.0",
            "_model_name": "LayoutModel",
            "_view_count": null,
            "_view_module": "@jupyter-widgets/base",
            "_view_module_version": "1.2.0",
            "_view_name": "LayoutView",
            "align_content": null,
            "align_items": null,
            "align_self": null,
            "border": null,
            "bottom": null,
            "display": null,
            "flex": null,
            "flex_flow": null,
            "grid_area": null,
            "grid_auto_columns": null,
            "grid_auto_flow": null,
            "grid_auto_rows": null,
            "grid_column": null,
            "grid_gap": null,
            "grid_row": null,
            "grid_template_areas": null,
            "grid_template_columns": null,
            "grid_template_rows": null,
            "height": null,
            "justify_content": null,
            "justify_items": null,
            "left": null,
            "margin": null,
            "max_height": null,
            "max_width": null,
            "min_height": null,
            "min_width": null,
            "object_fit": null,
            "object_position": null,
            "order": null,
            "overflow": null,
            "overflow_x": null,
            "overflow_y": null,
            "padding": null,
            "right": null,
            "top": null,
            "visibility": null,
            "width": null
          }
        },
        "af7170b7d7154e5a9c513ebd5c0f1ab3": {
          "model_module": "@jupyter-widgets/base",
          "model_name": "LayoutModel",
          "model_module_version": "1.2.0",
          "state": {
            "_model_module": "@jupyter-widgets/base",
            "_model_module_version": "1.2.0",
            "_model_name": "LayoutModel",
            "_view_count": null,
            "_view_module": "@jupyter-widgets/base",
            "_view_module_version": "1.2.0",
            "_view_name": "LayoutView",
            "align_content": null,
            "align_items": null,
            "align_self": null,
            "border": null,
            "bottom": null,
            "display": null,
            "flex": null,
            "flex_flow": null,
            "grid_area": null,
            "grid_auto_columns": null,
            "grid_auto_flow": null,
            "grid_auto_rows": null,
            "grid_column": null,
            "grid_gap": null,
            "grid_row": null,
            "grid_template_areas": null,
            "grid_template_columns": null,
            "grid_template_rows": null,
            "height": null,
            "justify_content": null,
            "justify_items": null,
            "left": null,
            "margin": null,
            "max_height": null,
            "max_width": null,
            "min_height": null,
            "min_width": null,
            "object_fit": null,
            "object_position": null,
            "order": null,
            "overflow": null,
            "overflow_x": null,
            "overflow_y": null,
            "padding": null,
            "right": null,
            "top": null,
            "visibility": null,
            "width": null
          }
        },
        "0536ce0a503842c9828838196cece389": {
          "model_module": "@jupyter-widgets/controls",
          "model_name": "DescriptionStyleModel",
          "model_module_version": "1.5.0",
          "state": {
            "_model_module": "@jupyter-widgets/controls",
            "_model_module_version": "1.5.0",
            "_model_name": "DescriptionStyleModel",
            "_view_count": null,
            "_view_module": "@jupyter-widgets/base",
            "_view_module_version": "1.2.0",
            "_view_name": "StyleView",
            "description_width": ""
          }
        },
        "8a1e1ee4f31649a8beb3b5b7632db38a": {
          "model_module": "@jupyter-widgets/base",
          "model_name": "LayoutModel",
          "model_module_version": "1.2.0",
          "state": {
            "_model_module": "@jupyter-widgets/base",
            "_model_module_version": "1.2.0",
            "_model_name": "LayoutModel",
            "_view_count": null,
            "_view_module": "@jupyter-widgets/base",
            "_view_module_version": "1.2.0",
            "_view_name": "LayoutView",
            "align_content": null,
            "align_items": null,
            "align_self": null,
            "border": null,
            "bottom": null,
            "display": null,
            "flex": null,
            "flex_flow": null,
            "grid_area": null,
            "grid_auto_columns": null,
            "grid_auto_flow": null,
            "grid_auto_rows": null,
            "grid_column": null,
            "grid_gap": null,
            "grid_row": null,
            "grid_template_areas": null,
            "grid_template_columns": null,
            "grid_template_rows": null,
            "height": null,
            "justify_content": null,
            "justify_items": null,
            "left": null,
            "margin": null,
            "max_height": null,
            "max_width": null,
            "min_height": null,
            "min_width": null,
            "object_fit": null,
            "object_position": null,
            "order": null,
            "overflow": null,
            "overflow_x": null,
            "overflow_y": null,
            "padding": null,
            "right": null,
            "top": null,
            "visibility": null,
            "width": null
          }
        },
        "0409a71909ec4afdaa6b1a749c36f0ad": {
          "model_module": "@jupyter-widgets/controls",
          "model_name": "ProgressStyleModel",
          "model_module_version": "1.5.0",
          "state": {
            "_model_module": "@jupyter-widgets/controls",
            "_model_module_version": "1.5.0",
            "_model_name": "ProgressStyleModel",
            "_view_count": null,
            "_view_module": "@jupyter-widgets/base",
            "_view_module_version": "1.2.0",
            "_view_name": "StyleView",
            "bar_color": null,
            "description_width": ""
          }
        },
        "ab8405d56cec415db035275636407446": {
          "model_module": "@jupyter-widgets/base",
          "model_name": "LayoutModel",
          "model_module_version": "1.2.0",
          "state": {
            "_model_module": "@jupyter-widgets/base",
            "_model_module_version": "1.2.0",
            "_model_name": "LayoutModel",
            "_view_count": null,
            "_view_module": "@jupyter-widgets/base",
            "_view_module_version": "1.2.0",
            "_view_name": "LayoutView",
            "align_content": null,
            "align_items": null,
            "align_self": null,
            "border": null,
            "bottom": null,
            "display": null,
            "flex": null,
            "flex_flow": null,
            "grid_area": null,
            "grid_auto_columns": null,
            "grid_auto_flow": null,
            "grid_auto_rows": null,
            "grid_column": null,
            "grid_gap": null,
            "grid_row": null,
            "grid_template_areas": null,
            "grid_template_columns": null,
            "grid_template_rows": null,
            "height": null,
            "justify_content": null,
            "justify_items": null,
            "left": null,
            "margin": null,
            "max_height": null,
            "max_width": null,
            "min_height": null,
            "min_width": null,
            "object_fit": null,
            "object_position": null,
            "order": null,
            "overflow": null,
            "overflow_x": null,
            "overflow_y": null,
            "padding": null,
            "right": null,
            "top": null,
            "visibility": null,
            "width": null
          }
        },
        "1e0bcd26f3734679bb320dc847b23970": {
          "model_module": "@jupyter-widgets/controls",
          "model_name": "DescriptionStyleModel",
          "model_module_version": "1.5.0",
          "state": {
            "_model_module": "@jupyter-widgets/controls",
            "_model_module_version": "1.5.0",
            "_model_name": "DescriptionStyleModel",
            "_view_count": null,
            "_view_module": "@jupyter-widgets/base",
            "_view_module_version": "1.2.0",
            "_view_name": "StyleView",
            "description_width": ""
          }
        },
        "5795feeab5c54132b24af1f872d41717": {
          "model_module": "@jupyter-widgets/controls",
          "model_name": "HBoxModel",
          "model_module_version": "1.5.0",
          "state": {
            "_dom_classes": [],
            "_model_module": "@jupyter-widgets/controls",
            "_model_module_version": "1.5.0",
            "_model_name": "HBoxModel",
            "_view_count": null,
            "_view_module": "@jupyter-widgets/controls",
            "_view_module_version": "1.5.0",
            "_view_name": "HBoxView",
            "box_style": "",
            "children": [
              "IPY_MODEL_9abc08015bd44c3aaea8174c41de95ba",
              "IPY_MODEL_9c3fe395f5e4462bbbaaff90048d9073",
              "IPY_MODEL_8a2273570ffb4b45b2bf9ecb65b51b3f"
            ],
            "layout": "IPY_MODEL_4289e3f1d2c4488aaacbf90af0a57998"
          }
        },
        "9abc08015bd44c3aaea8174c41de95ba": {
          "model_module": "@jupyter-widgets/controls",
          "model_name": "HTMLModel",
          "model_module_version": "1.5.0",
          "state": {
            "_dom_classes": [],
            "_model_module": "@jupyter-widgets/controls",
            "_model_module_version": "1.5.0",
            "_model_name": "HTMLModel",
            "_view_count": null,
            "_view_module": "@jupyter-widgets/controls",
            "_view_module_version": "1.5.0",
            "_view_name": "HTMLView",
            "description": "",
            "description_tooltip": null,
            "layout": "IPY_MODEL_68f058e9f20b486db6dbbb3821e98528",
            "placeholder": "​",
            "style": "IPY_MODEL_c86c0be5880447e9ae52b86cad571227",
            "value": "Downloading (…)ve/main/spiece.model: 100%"
          }
        },
        "9c3fe395f5e4462bbbaaff90048d9073": {
          "model_module": "@jupyter-widgets/controls",
          "model_name": "FloatProgressModel",
          "model_module_version": "1.5.0",
          "state": {
            "_dom_classes": [],
            "_model_module": "@jupyter-widgets/controls",
            "_model_module_version": "1.5.0",
            "_model_name": "FloatProgressModel",
            "_view_count": null,
            "_view_module": "@jupyter-widgets/controls",
            "_view_module_version": "1.5.0",
            "_view_name": "ProgressView",
            "bar_style": "success",
            "description": "",
            "description_tooltip": null,
            "layout": "IPY_MODEL_713ea14208d241d2a8d61d451193035f",
            "max": 1882978,
            "min": 0,
            "orientation": "horizontal",
            "style": "IPY_MODEL_d629d0cbdbe04456bfa40e79150c005a",
            "value": 1882978
          }
        },
        "8a2273570ffb4b45b2bf9ecb65b51b3f": {
          "model_module": "@jupyter-widgets/controls",
          "model_name": "HTMLModel",
          "model_module_version": "1.5.0",
          "state": {
            "_dom_classes": [],
            "_model_module": "@jupyter-widgets/controls",
            "_model_module_version": "1.5.0",
            "_model_name": "HTMLModel",
            "_view_count": null,
            "_view_module": "@jupyter-widgets/controls",
            "_view_module_version": "1.5.0",
            "_view_name": "HTMLView",
            "description": "",
            "description_tooltip": null,
            "layout": "IPY_MODEL_f282786e3d3b4cf79481e6964099bfd4",
            "placeholder": "​",
            "style": "IPY_MODEL_121d78bef58d4507a975dd86cf0869ab",
            "value": " 1.88M/1.88M [00:01&lt;00:00, 1.78MB/s]"
          }
        },
        "4289e3f1d2c4488aaacbf90af0a57998": {
          "model_module": "@jupyter-widgets/base",
          "model_name": "LayoutModel",
          "model_module_version": "1.2.0",
          "state": {
            "_model_module": "@jupyter-widgets/base",
            "_model_module_version": "1.2.0",
            "_model_name": "LayoutModel",
            "_view_count": null,
            "_view_module": "@jupyter-widgets/base",
            "_view_module_version": "1.2.0",
            "_view_name": "LayoutView",
            "align_content": null,
            "align_items": null,
            "align_self": null,
            "border": null,
            "bottom": null,
            "display": null,
            "flex": null,
            "flex_flow": null,
            "grid_area": null,
            "grid_auto_columns": null,
            "grid_auto_flow": null,
            "grid_auto_rows": null,
            "grid_column": null,
            "grid_gap": null,
            "grid_row": null,
            "grid_template_areas": null,
            "grid_template_columns": null,
            "grid_template_rows": null,
            "height": null,
            "justify_content": null,
            "justify_items": null,
            "left": null,
            "margin": null,
            "max_height": null,
            "max_width": null,
            "min_height": null,
            "min_width": null,
            "object_fit": null,
            "object_position": null,
            "order": null,
            "overflow": null,
            "overflow_x": null,
            "overflow_y": null,
            "padding": null,
            "right": null,
            "top": null,
            "visibility": null,
            "width": null
          }
        },
        "68f058e9f20b486db6dbbb3821e98528": {
          "model_module": "@jupyter-widgets/base",
          "model_name": "LayoutModel",
          "model_module_version": "1.2.0",
          "state": {
            "_model_module": "@jupyter-widgets/base",
            "_model_module_version": "1.2.0",
            "_model_name": "LayoutModel",
            "_view_count": null,
            "_view_module": "@jupyter-widgets/base",
            "_view_module_version": "1.2.0",
            "_view_name": "LayoutView",
            "align_content": null,
            "align_items": null,
            "align_self": null,
            "border": null,
            "bottom": null,
            "display": null,
            "flex": null,
            "flex_flow": null,
            "grid_area": null,
            "grid_auto_columns": null,
            "grid_auto_flow": null,
            "grid_auto_rows": null,
            "grid_column": null,
            "grid_gap": null,
            "grid_row": null,
            "grid_template_areas": null,
            "grid_template_columns": null,
            "grid_template_rows": null,
            "height": null,
            "justify_content": null,
            "justify_items": null,
            "left": null,
            "margin": null,
            "max_height": null,
            "max_width": null,
            "min_height": null,
            "min_width": null,
            "object_fit": null,
            "object_position": null,
            "order": null,
            "overflow": null,
            "overflow_x": null,
            "overflow_y": null,
            "padding": null,
            "right": null,
            "top": null,
            "visibility": null,
            "width": null
          }
        },
        "c86c0be5880447e9ae52b86cad571227": {
          "model_module": "@jupyter-widgets/controls",
          "model_name": "DescriptionStyleModel",
          "model_module_version": "1.5.0",
          "state": {
            "_model_module": "@jupyter-widgets/controls",
            "_model_module_version": "1.5.0",
            "_model_name": "DescriptionStyleModel",
            "_view_count": null,
            "_view_module": "@jupyter-widgets/base",
            "_view_module_version": "1.2.0",
            "_view_name": "StyleView",
            "description_width": ""
          }
        },
        "713ea14208d241d2a8d61d451193035f": {
          "model_module": "@jupyter-widgets/base",
          "model_name": "LayoutModel",
          "model_module_version": "1.2.0",
          "state": {
            "_model_module": "@jupyter-widgets/base",
            "_model_module_version": "1.2.0",
            "_model_name": "LayoutModel",
            "_view_count": null,
            "_view_module": "@jupyter-widgets/base",
            "_view_module_version": "1.2.0",
            "_view_name": "LayoutView",
            "align_content": null,
            "align_items": null,
            "align_self": null,
            "border": null,
            "bottom": null,
            "display": null,
            "flex": null,
            "flex_flow": null,
            "grid_area": null,
            "grid_auto_columns": null,
            "grid_auto_flow": null,
            "grid_auto_rows": null,
            "grid_column": null,
            "grid_gap": null,
            "grid_row": null,
            "grid_template_areas": null,
            "grid_template_columns": null,
            "grid_template_rows": null,
            "height": null,
            "justify_content": null,
            "justify_items": null,
            "left": null,
            "margin": null,
            "max_height": null,
            "max_width": null,
            "min_height": null,
            "min_width": null,
            "object_fit": null,
            "object_position": null,
            "order": null,
            "overflow": null,
            "overflow_x": null,
            "overflow_y": null,
            "padding": null,
            "right": null,
            "top": null,
            "visibility": null,
            "width": null
          }
        },
        "d629d0cbdbe04456bfa40e79150c005a": {
          "model_module": "@jupyter-widgets/controls",
          "model_name": "ProgressStyleModel",
          "model_module_version": "1.5.0",
          "state": {
            "_model_module": "@jupyter-widgets/controls",
            "_model_module_version": "1.5.0",
            "_model_name": "ProgressStyleModel",
            "_view_count": null,
            "_view_module": "@jupyter-widgets/base",
            "_view_module_version": "1.2.0",
            "_view_name": "StyleView",
            "bar_color": null,
            "description_width": ""
          }
        },
        "f282786e3d3b4cf79481e6964099bfd4": {
          "model_module": "@jupyter-widgets/base",
          "model_name": "LayoutModel",
          "model_module_version": "1.2.0",
          "state": {
            "_model_module": "@jupyter-widgets/base",
            "_model_module_version": "1.2.0",
            "_model_name": "LayoutModel",
            "_view_count": null,
            "_view_module": "@jupyter-widgets/base",
            "_view_module_version": "1.2.0",
            "_view_name": "LayoutView",
            "align_content": null,
            "align_items": null,
            "align_self": null,
            "border": null,
            "bottom": null,
            "display": null,
            "flex": null,
            "flex_flow": null,
            "grid_area": null,
            "grid_auto_columns": null,
            "grid_auto_flow": null,
            "grid_auto_rows": null,
            "grid_column": null,
            "grid_gap": null,
            "grid_row": null,
            "grid_template_areas": null,
            "grid_template_columns": null,
            "grid_template_rows": null,
            "height": null,
            "justify_content": null,
            "justify_items": null,
            "left": null,
            "margin": null,
            "max_height": null,
            "max_width": null,
            "min_height": null,
            "min_width": null,
            "object_fit": null,
            "object_position": null,
            "order": null,
            "overflow": null,
            "overflow_x": null,
            "overflow_y": null,
            "padding": null,
            "right": null,
            "top": null,
            "visibility": null,
            "width": null
          }
        },
        "121d78bef58d4507a975dd86cf0869ab": {
          "model_module": "@jupyter-widgets/controls",
          "model_name": "DescriptionStyleModel",
          "model_module_version": "1.5.0",
          "state": {
            "_model_module": "@jupyter-widgets/controls",
            "_model_module_version": "1.5.0",
            "_model_name": "DescriptionStyleModel",
            "_view_count": null,
            "_view_module": "@jupyter-widgets/base",
            "_view_module_version": "1.2.0",
            "_view_name": "StyleView",
            "description_width": ""
          }
        },
        "3244d293e6ca4a889742dfc32f33380e": {
          "model_module": "@jupyter-widgets/controls",
          "model_name": "HBoxModel",
          "model_module_version": "1.5.0",
          "state": {
            "_dom_classes": [],
            "_model_module": "@jupyter-widgets/controls",
            "_model_module_version": "1.5.0",
            "_model_name": "HBoxModel",
            "_view_count": null,
            "_view_module": "@jupyter-widgets/controls",
            "_view_module_version": "1.5.0",
            "_view_name": "HBoxView",
            "box_style": "",
            "children": [
              "IPY_MODEL_48f80d761a61400c99be69b32f925513",
              "IPY_MODEL_c5601d99526b47ca962feec940a971ae",
              "IPY_MODEL_48a9a400bc0747d1a0747c0bdf6788c4"
            ],
            "layout": "IPY_MODEL_1f64d7e3d1134a1dae17b9d4ad1d49e1"
          }
        },
        "48f80d761a61400c99be69b32f925513": {
          "model_module": "@jupyter-widgets/controls",
          "model_name": "HTMLModel",
          "model_module_version": "1.5.0",
          "state": {
            "_dom_classes": [],
            "_model_module": "@jupyter-widgets/controls",
            "_model_module_version": "1.5.0",
            "_model_name": "HTMLModel",
            "_view_count": null,
            "_view_module": "@jupyter-widgets/controls",
            "_view_module_version": "1.5.0",
            "_view_name": "HTMLView",
            "description": "",
            "description_tooltip": null,
            "layout": "IPY_MODEL_1efecdbbea7242d1b6d08d9777d47e24",
            "placeholder": "​",
            "style": "IPY_MODEL_9e8d603ac5a94f1898f6fffac430be26",
            "value": "Downloading pytorch_model.bin: 100%"
          }
        },
        "c5601d99526b47ca962feec940a971ae": {
          "model_module": "@jupyter-widgets/controls",
          "model_name": "FloatProgressModel",
          "model_module_version": "1.5.0",
          "state": {
            "_dom_classes": [],
            "_model_module": "@jupyter-widgets/controls",
            "_model_module_version": "1.5.0",
            "_model_name": "FloatProgressModel",
            "_view_count": null,
            "_view_module": "@jupyter-widgets/controls",
            "_view_module_version": "1.5.0",
            "_view_name": "ProgressView",
            "bar_style": "success",
            "description": "",
            "description_tooltip": null,
            "layout": "IPY_MODEL_3deddb4282db4916af7307a86eacda84",
            "max": 73062448,
            "min": 0,
            "orientation": "horizontal",
            "style": "IPY_MODEL_083cdd219534432a95c2ccfdee6642c5",
            "value": 73062448
          }
        },
        "48a9a400bc0747d1a0747c0bdf6788c4": {
          "model_module": "@jupyter-widgets/controls",
          "model_name": "HTMLModel",
          "model_module_version": "1.5.0",
          "state": {
            "_dom_classes": [],
            "_model_module": "@jupyter-widgets/controls",
            "_model_module_version": "1.5.0",
            "_model_name": "HTMLModel",
            "_view_count": null,
            "_view_module": "@jupyter-widgets/controls",
            "_view_module_version": "1.5.0",
            "_view_name": "HTMLView",
            "description": "",
            "description_tooltip": null,
            "layout": "IPY_MODEL_0cf40806770f42aaa58f1db61871e3ba",
            "placeholder": "​",
            "style": "IPY_MODEL_681a5b012e7a435cae3b0ade0566fbe7",
            "value": " 73.1M/73.1M [00:00&lt;00:00, 277MB/s]"
          }
        },
        "1f64d7e3d1134a1dae17b9d4ad1d49e1": {
          "model_module": "@jupyter-widgets/base",
          "model_name": "LayoutModel",
          "model_module_version": "1.2.0",
          "state": {
            "_model_module": "@jupyter-widgets/base",
            "_model_module_version": "1.2.0",
            "_model_name": "LayoutModel",
            "_view_count": null,
            "_view_module": "@jupyter-widgets/base",
            "_view_module_version": "1.2.0",
            "_view_name": "LayoutView",
            "align_content": null,
            "align_items": null,
            "align_self": null,
            "border": null,
            "bottom": null,
            "display": null,
            "flex": null,
            "flex_flow": null,
            "grid_area": null,
            "grid_auto_columns": null,
            "grid_auto_flow": null,
            "grid_auto_rows": null,
            "grid_column": null,
            "grid_gap": null,
            "grid_row": null,
            "grid_template_areas": null,
            "grid_template_columns": null,
            "grid_template_rows": null,
            "height": null,
            "justify_content": null,
            "justify_items": null,
            "left": null,
            "margin": null,
            "max_height": null,
            "max_width": null,
            "min_height": null,
            "min_width": null,
            "object_fit": null,
            "object_position": null,
            "order": null,
            "overflow": null,
            "overflow_x": null,
            "overflow_y": null,
            "padding": null,
            "right": null,
            "top": null,
            "visibility": null,
            "width": null
          }
        },
        "1efecdbbea7242d1b6d08d9777d47e24": {
          "model_module": "@jupyter-widgets/base",
          "model_name": "LayoutModel",
          "model_module_version": "1.2.0",
          "state": {
            "_model_module": "@jupyter-widgets/base",
            "_model_module_version": "1.2.0",
            "_model_name": "LayoutModel",
            "_view_count": null,
            "_view_module": "@jupyter-widgets/base",
            "_view_module_version": "1.2.0",
            "_view_name": "LayoutView",
            "align_content": null,
            "align_items": null,
            "align_self": null,
            "border": null,
            "bottom": null,
            "display": null,
            "flex": null,
            "flex_flow": null,
            "grid_area": null,
            "grid_auto_columns": null,
            "grid_auto_flow": null,
            "grid_auto_rows": null,
            "grid_column": null,
            "grid_gap": null,
            "grid_row": null,
            "grid_template_areas": null,
            "grid_template_columns": null,
            "grid_template_rows": null,
            "height": null,
            "justify_content": null,
            "justify_items": null,
            "left": null,
            "margin": null,
            "max_height": null,
            "max_width": null,
            "min_height": null,
            "min_width": null,
            "object_fit": null,
            "object_position": null,
            "order": null,
            "overflow": null,
            "overflow_x": null,
            "overflow_y": null,
            "padding": null,
            "right": null,
            "top": null,
            "visibility": null,
            "width": null
          }
        },
        "9e8d603ac5a94f1898f6fffac430be26": {
          "model_module": "@jupyter-widgets/controls",
          "model_name": "DescriptionStyleModel",
          "model_module_version": "1.5.0",
          "state": {
            "_model_module": "@jupyter-widgets/controls",
            "_model_module_version": "1.5.0",
            "_model_name": "DescriptionStyleModel",
            "_view_count": null,
            "_view_module": "@jupyter-widgets/base",
            "_view_module_version": "1.2.0",
            "_view_name": "StyleView",
            "description_width": ""
          }
        },
        "3deddb4282db4916af7307a86eacda84": {
          "model_module": "@jupyter-widgets/base",
          "model_name": "LayoutModel",
          "model_module_version": "1.2.0",
          "state": {
            "_model_module": "@jupyter-widgets/base",
            "_model_module_version": "1.2.0",
            "_model_name": "LayoutModel",
            "_view_count": null,
            "_view_module": "@jupyter-widgets/base",
            "_view_module_version": "1.2.0",
            "_view_name": "LayoutView",
            "align_content": null,
            "align_items": null,
            "align_self": null,
            "border": null,
            "bottom": null,
            "display": null,
            "flex": null,
            "flex_flow": null,
            "grid_area": null,
            "grid_auto_columns": null,
            "grid_auto_flow": null,
            "grid_auto_rows": null,
            "grid_column": null,
            "grid_gap": null,
            "grid_row": null,
            "grid_template_areas": null,
            "grid_template_columns": null,
            "grid_template_rows": null,
            "height": null,
            "justify_content": null,
            "justify_items": null,
            "left": null,
            "margin": null,
            "max_height": null,
            "max_width": null,
            "min_height": null,
            "min_width": null,
            "object_fit": null,
            "object_position": null,
            "order": null,
            "overflow": null,
            "overflow_x": null,
            "overflow_y": null,
            "padding": null,
            "right": null,
            "top": null,
            "visibility": null,
            "width": null
          }
        },
        "083cdd219534432a95c2ccfdee6642c5": {
          "model_module": "@jupyter-widgets/controls",
          "model_name": "ProgressStyleModel",
          "model_module_version": "1.5.0",
          "state": {
            "_model_module": "@jupyter-widgets/controls",
            "_model_module_version": "1.5.0",
            "_model_name": "ProgressStyleModel",
            "_view_count": null,
            "_view_module": "@jupyter-widgets/base",
            "_view_module_version": "1.2.0",
            "_view_name": "StyleView",
            "bar_color": null,
            "description_width": ""
          }
        },
        "0cf40806770f42aaa58f1db61871e3ba": {
          "model_module": "@jupyter-widgets/base",
          "model_name": "LayoutModel",
          "model_module_version": "1.2.0",
          "state": {
            "_model_module": "@jupyter-widgets/base",
            "_model_module_version": "1.2.0",
            "_model_name": "LayoutModel",
            "_view_count": null,
            "_view_module": "@jupyter-widgets/base",
            "_view_module_version": "1.2.0",
            "_view_name": "LayoutView",
            "align_content": null,
            "align_items": null,
            "align_self": null,
            "border": null,
            "bottom": null,
            "display": null,
            "flex": null,
            "flex_flow": null,
            "grid_area": null,
            "grid_auto_columns": null,
            "grid_auto_flow": null,
            "grid_auto_rows": null,
            "grid_column": null,
            "grid_gap": null,
            "grid_row": null,
            "grid_template_areas": null,
            "grid_template_columns": null,
            "grid_template_rows": null,
            "height": null,
            "justify_content": null,
            "justify_items": null,
            "left": null,
            "margin": null,
            "max_height": null,
            "max_width": null,
            "min_height": null,
            "min_width": null,
            "object_fit": null,
            "object_position": null,
            "order": null,
            "overflow": null,
            "overflow_x": null,
            "overflow_y": null,
            "padding": null,
            "right": null,
            "top": null,
            "visibility": null,
            "width": null
          }
        },
        "681a5b012e7a435cae3b0ade0566fbe7": {
          "model_module": "@jupyter-widgets/controls",
          "model_name": "DescriptionStyleModel",
          "model_module_version": "1.5.0",
          "state": {
            "_model_module": "@jupyter-widgets/controls",
            "_model_module_version": "1.5.0",
            "_model_name": "DescriptionStyleModel",
            "_view_count": null,
            "_view_module": "@jupyter-widgets/base",
            "_view_module_version": "1.2.0",
            "_view_name": "StyleView",
            "description_width": ""
          }
        }
      }
    }
  },
  "cells": [
    {
      "cell_type": "code",
      "execution_count": 1,
      "metadata": {
        "colab": {
          "base_uri": "https://localhost:8080/"
        },
        "id": "A5wGTHNkuvDu",
        "outputId": "21f27361-ed06-4707-a230-3dfc823022f5"
      },
      "outputs": [
        {
          "output_type": "stream",
          "name": "stdout",
          "text": [
            "\u001b[2K     \u001b[90m━━━━━━━━━━━━━━━━━━━━━━━━━━━━━━━━━━━━━━━━\u001b[0m \u001b[32m7.1/7.1 MB\u001b[0m \u001b[31m43.7 MB/s\u001b[0m eta \u001b[36m0:00:00\u001b[0m\n",
            "\u001b[2K     \u001b[90m━━━━━━━━━━━━━━━━━━━━━━━━━━━━━━━━━━━━━━\u001b[0m \u001b[32m236.8/236.8 kB\u001b[0m \u001b[31m25.4 MB/s\u001b[0m eta \u001b[36m0:00:00\u001b[0m\n",
            "\u001b[2K     \u001b[90m━━━━━━━━━━━━━━━━━━━━━━━━━━━━━━━━━━━━━━━━\u001b[0m \u001b[32m7.8/7.8 MB\u001b[0m \u001b[31m89.6 MB/s\u001b[0m eta \u001b[36m0:00:00\u001b[0m\n",
            "\u001b[2K     \u001b[90m━━━━━━━━━━━━━━━━━━━━━━━━━━━━━━━━━━━━━━━━\u001b[0m \u001b[32m1.3/1.3 MB\u001b[0m \u001b[31m50.5 MB/s\u001b[0m eta \u001b[36m0:00:00\u001b[0m\n",
            "\u001b[?25h"
          ]
        }
      ],
      "source": [
        "! git clone -q https://github.com/AUT-NLP/PQuAD.git\n",
        "! pip install -q transformers\n",
        "! pip install -q sentencepiece"
      ]
    },
    {
      "cell_type": "code",
      "source": [
        "import json\n",
        "import numpy as np\n",
        "import pandas as pd\n",
        "\n",
        "import tensorflow as tf\n",
        "from tensorflow.keras.utils import to_categorical\n",
        "\n",
        "from sklearn.metrics import f1_score\n",
        "\n",
        "from transformers import AutoTokenizer, TFAutoModel"
      ],
      "metadata": {
        "id": "TNXpqKQpTC_S"
      },
      "execution_count": 2,
      "outputs": []
    },
    {
      "cell_type": "code",
      "source": [
        "max_length = 128\n",
        "doc_stride = 16\n",
        "model_name = \"m3hrdadfi/albert-fa-base-v2\"\n",
        "\n",
        "tokenizer = AutoTokenizer.from_pretrained(model_name)"
      ],
      "metadata": {
        "id": "CXzbwBQuXhp6",
        "colab": {
          "base_uri": "https://localhost:8080/",
          "height": 81,
          "referenced_widgets": [
            "7cb3cc0a0dec4d09aeae0e9b09ff36c3",
            "408204f253514b44825827afb9747ea8",
            "5ede66c14d374d648642b57d0bb49101",
            "e86e0645bc644f2a8a51eaa9d1dda943",
            "19c0bc714c924d67a70aa88cb0d18a89",
            "af7170b7d7154e5a9c513ebd5c0f1ab3",
            "0536ce0a503842c9828838196cece389",
            "8a1e1ee4f31649a8beb3b5b7632db38a",
            "0409a71909ec4afdaa6b1a749c36f0ad",
            "ab8405d56cec415db035275636407446",
            "1e0bcd26f3734679bb320dc847b23970",
            "5795feeab5c54132b24af1f872d41717",
            "9abc08015bd44c3aaea8174c41de95ba",
            "9c3fe395f5e4462bbbaaff90048d9073",
            "8a2273570ffb4b45b2bf9ecb65b51b3f",
            "4289e3f1d2c4488aaacbf90af0a57998",
            "68f058e9f20b486db6dbbb3821e98528",
            "c86c0be5880447e9ae52b86cad571227",
            "713ea14208d241d2a8d61d451193035f",
            "d629d0cbdbe04456bfa40e79150c005a",
            "f282786e3d3b4cf79481e6964099bfd4",
            "121d78bef58d4507a975dd86cf0869ab"
          ]
        },
        "outputId": "21b13769-92aa-4ab9-8ef9-30a55187ca1d"
      },
      "execution_count": 3,
      "outputs": [
        {
          "output_type": "display_data",
          "data": {
            "text/plain": [
              "Downloading (…)lve/main/config.json:   0%|          | 0.00/684 [00:00<?, ?B/s]"
            ],
            "application/vnd.jupyter.widget-view+json": {
              "version_major": 2,
              "version_minor": 0,
              "model_id": "7cb3cc0a0dec4d09aeae0e9b09ff36c3"
            }
          },
          "metadata": {}
        },
        {
          "output_type": "display_data",
          "data": {
            "text/plain": [
              "Downloading (…)ve/main/spiece.model:   0%|          | 0.00/1.88M [00:00<?, ?B/s]"
            ],
            "application/vnd.jupyter.widget-view+json": {
              "version_major": 2,
              "version_minor": 0,
              "model_id": "5795feeab5c54132b24af1f872d41717"
            }
          },
          "metadata": {}
        }
      ]
    },
    {
      "cell_type": "markdown",
      "source": [
        "## Loading Dataset"
      ],
      "metadata": {
        "id": "QuCCAWt5rDq6"
      }
    },
    {
      "cell_type": "code",
      "source": [
        "def simplify_dataset(dataset):\n",
        "    simplified_data = []\n",
        "\n",
        "    for document in dataset['data']:\n",
        "        for paragraph in document['paragraphs']:\n",
        "            for qa in paragraph['qas']:\n",
        "                entry = {\n",
        "                    'id': qa['id'],\n",
        "                    'title': document['title'],\n",
        "                    'context': paragraph['context'],\n",
        "                    'question': qa['question'],\n",
        "                    'is_impossible': qa['is_impossible']\n",
        "                }\n",
        "                if not qa['is_impossible']:\n",
        "                    entry['answer'] = {\n",
        "                        'text': qa['answers'][0]['text'],\n",
        "                        'answer_start': qa['answers'][0]['answer_start']\n",
        "                    }\n",
        "\n",
        "                simplified_data.append(entry)\n",
        "\n",
        "    return simplified_data"
      ],
      "metadata": {
        "id": "9BEO4_kZR0gc"
      },
      "execution_count": 4,
      "outputs": []
    },
    {
      "cell_type": "code",
      "source": [
        "def load_pquad():\n",
        "\n",
        "    with open('PQuAD/Dataset/Train.json') as f:\n",
        "        train = json.load(f)\n",
        "        train = simplify_dataset(train)\n",
        "\n",
        "    with open('PQuAD/Dataset/Validation.json') as f:\n",
        "        validation = json.load(f)\n",
        "        validation = simplify_dataset(validation)\n",
        "\n",
        "    with open('PQuAD/Dataset/Test.json') as f:\n",
        "        test = json.load(f)\n",
        "        test = simplify_dataset(test)\n",
        "\n",
        "    return train, validation, test"
      ],
      "metadata": {
        "id": "4NzUnqxuw2Eg"
      },
      "execution_count": 5,
      "outputs": []
    },
    {
      "cell_type": "code",
      "source": [
        "train, validation, test = load_pquad()"
      ],
      "metadata": {
        "id": "GPk3lDcWiHGK"
      },
      "execution_count": 6,
      "outputs": []
    },
    {
      "cell_type": "markdown",
      "source": [
        "## Dataset Statistics"
      ],
      "metadata": {
        "id": "bBMnhl2as_Un"
      }
    },
    {
      "cell_type": "code",
      "source": [
        "def extract_dataset_statistics(dataset):\n",
        "    tmp = pd.json_normalize(dataset)\n",
        "\n",
        "    question_count = len(tmp)\n",
        "    print('total question count =', question_count)\n",
        "\n",
        "    impossible_answers = np.sum(tmp['is_impossible'] == True)\n",
        "    answerability = (1 - impossible_answers / question_count) * 100\n",
        "    print('impossible to answer =', impossible_answers)\n",
        "    print(f'answerability = {answerability:.1f} %\\n')\n",
        "\n",
        "    context_word_count = tmp['context'].str.count(' ') + 1\n",
        "    print('min context words =', int(context_word_count.min()))\n",
        "    print('max context words =', int(context_word_count.max()))\n",
        "    print(f'avg context words = {context_word_count.mean():.1f}\\n')\n",
        "\n",
        "    question_word_count = tmp['question'].str.count(' ') + 1\n",
        "    print('min question words =', int(question_word_count.min()))\n",
        "    print('max question words =', int(question_word_count.max()))\n",
        "    print(f'avg question words = {question_word_count.mean():.1f}\\n')\n",
        "\n",
        "    answer_word_count = tmp['answer.text'].str.count(' ') + 1\n",
        "    print('min answer words =', int(answer_word_count.min()))\n",
        "    print('max answer words =', int(answer_word_count.max()))\n",
        "    print(f'avg answer words = {answer_word_count.mean():.1f}\\n')\n",
        "\n",
        "    del tmp"
      ],
      "metadata": {
        "id": "rBttWjJiaal_"
      },
      "execution_count": 7,
      "outputs": []
    },
    {
      "cell_type": "code",
      "source": [
        "extract_dataset_statistics(train)"
      ],
      "metadata": {
        "colab": {
          "base_uri": "https://localhost:8080/"
        },
        "id": "DiIYivRKoKHe",
        "outputId": "888b8e8f-719f-485b-dae3-73a60896b946"
      },
      "execution_count": 8,
      "outputs": [
        {
          "output_type": "stream",
          "name": "stdout",
          "text": [
            "total question count = 63994\n",
            "impossible to answer = 15721\n",
            "answerability = 75.4 %\n",
            "\n",
            "min context words = 7\n",
            "max context words = 274\n",
            "avg context words = 129.1\n",
            "\n",
            "min question words = 2\n",
            "max question words = 256\n",
            "avg question words = 10.4\n",
            "\n",
            "min answer words = 1\n",
            "max answer words = 127\n",
            "avg answer words = 5.2\n",
            "\n"
          ]
        }
      ]
    },
    {
      "cell_type": "code",
      "source": [
        "extract_dataset_statistics(validation)"
      ],
      "metadata": {
        "colab": {
          "base_uri": "https://localhost:8080/"
        },
        "id": "-ZMjRZndra0g",
        "outputId": "d2aac369-ba0a-4a3b-ef24-b0ec66843ee5"
      },
      "execution_count": 9,
      "outputs": [
        {
          "output_type": "stream",
          "name": "stdout",
          "text": [
            "total question count = 7976\n",
            "impossible to answer = 1981\n",
            "answerability = 75.2 %\n",
            "\n",
            "min context words = 15\n",
            "max context words = 256\n",
            "avg context words = 125.3\n",
            "\n",
            "min question words = 2\n",
            "max question words = 51\n",
            "avg question words = 10.7\n",
            "\n",
            "min answer words = 1\n",
            "max answer words = 157\n",
            "avg answer words = 6.3\n",
            "\n"
          ]
        }
      ]
    },
    {
      "cell_type": "code",
      "source": [
        "extract_dataset_statistics(test)"
      ],
      "metadata": {
        "colab": {
          "base_uri": "https://localhost:8080/"
        },
        "id": "ccvp4S14r1tV",
        "outputId": "197a7191-06a9-42bb-92f0-423be8cbd668"
      },
      "execution_count": 10,
      "outputs": [
        {
          "output_type": "stream",
          "name": "stdout",
          "text": [
            "total question count = 8002\n",
            "impossible to answer = 1914\n",
            "answerability = 76.1 %\n",
            "\n",
            "min context words = 17\n",
            "max context words = 328\n",
            "avg context words = 128.2\n",
            "\n",
            "min question words = 2\n",
            "max question words = 58\n",
            "avg question words = 10.9\n",
            "\n",
            "min answer words = 1\n",
            "max answer words = 105\n",
            "avg answer words = 5.5\n",
            "\n"
          ]
        }
      ]
    },
    {
      "cell_type": "markdown",
      "source": [
        "## Preprocessing"
      ],
      "metadata": {
        "id": "bAgdMteUtEG1"
      }
    },
    {
      "cell_type": "code",
      "source": [
        "def preprocess_element(entry):\n",
        "\n",
        "    tokenized_entry = tokenizer(\n",
        "        entry[\"question\"],\n",
        "        entry[\"context\"],\n",
        "        truncation=\"only_second\",\n",
        "        max_length=max_length,\n",
        "        stride=doc_stride,\n",
        "        return_overflowing_tokens=True,\n",
        "        return_offsets_mapping=True,\n",
        "        padding=\"max_length\",\n",
        "    )\n",
        "\n",
        "    sample_mapping = tokenized_entry.pop(\"overflow_to_sample_mapping\")\n",
        "    offset_mapping = tokenized_entry.pop(\"offset_mapping\")\n",
        "\n",
        "    tokenized_entry[\"start_positions\"] = []\n",
        "    tokenized_entry[\"end_positions\"] = []\n",
        "\n",
        "    for i, offsets in enumerate(offset_mapping):\n",
        "\n",
        "        input_ids = tokenized_entry[\"input_ids\"][i]\n",
        "        cls_index = input_ids.index(tokenizer.cls_token_id)\n",
        "        sequence_ids = tokenized_entry.sequence_ids(i)\n",
        "\n",
        "        # if no answers are given, set the cls_index as answer\n",
        "        if entry['is_impossible']:\n",
        "            tokenized_entry[\"start_positions\"].append(cls_index)\n",
        "            tokenized_entry[\"end_positions\"].append(cls_index)\n",
        "\n",
        "        else:\n",
        "\n",
        "            answer = entry[\"answer\"]\n",
        "            start_char = answer[\"answer_start\"]\n",
        "            end_char = start_char + len(answer[\"text\"])\n",
        "\n",
        "            # find index of the first context token\n",
        "            token_start_index = 0\n",
        "            while sequence_ids[token_start_index] != 1:\n",
        "                token_start_index += 1\n",
        "\n",
        "            # find index of the last context token\n",
        "            token_end_index = len(input_ids) - 1\n",
        "            while sequence_ids[token_end_index] != 1:\n",
        "                token_end_index -= 1\n",
        "\n",
        "            # if the answer is out of the span it's impossible to answer\n",
        "            if (start_char < offsets[token_start_index][0] or\n",
        "                offsets[token_end_index][1] < end_char):\n",
        "                \n",
        "                tokenized_entry[\"start_positions\"].append(cls_index)\n",
        "                tokenized_entry[\"end_positions\"].append(cls_index)\n",
        "\n",
        "            else:\n",
        "\n",
        "                while (token_start_index < len(offsets) and\n",
        "                    offsets[token_start_index][0] <= start_char):\n",
        "                    token_start_index += 1\n",
        "\n",
        "                while offsets[token_end_index][1] >= end_char:\n",
        "                    token_end_index -= 1\n",
        "\n",
        "                tokenized_entry[\"start_positions\"].append(token_start_index - 1)\n",
        "                tokenized_entry[\"end_positions\"].append(token_end_index + 1)\n",
        "\n",
        "    return tokenized_entry"
      ],
      "metadata": {
        "id": "1Tt0-KPzCv1o"
      },
      "execution_count": 11,
      "outputs": []
    },
    {
      "cell_type": "code",
      "source": [
        "def reformat_dataset(dataset):\n",
        "\n",
        "    X = {\n",
        "        'input_ids': np.stack(dataset['input_ids']),\n",
        "        'token_type_ids': np.stack(dataset['token_type_ids']),\n",
        "        'attention_mask': np.stack(dataset['attention_mask']),\n",
        "    }\n",
        "\n",
        "    Y = {\n",
        "        'start_positions': np.stack(dataset['start_positions']),\n",
        "        'end_positions': np.stack(dataset['end_positions']),\n",
        "    }\n",
        "\n",
        "    return X, Y"
      ],
      "metadata": {
        "id": "mYRblCz8lNiU"
      },
      "execution_count": 12,
      "outputs": []
    },
    {
      "cell_type": "code",
      "source": [
        "def preprocess_dataset(dataset):\n",
        "    X = []\n",
        "\n",
        "    for entry in dataset:\n",
        "        x = preprocess_element(entry)\n",
        "        for i in range(len(x['input_ids'])):\n",
        "            X.append({\n",
        "                'input_ids': np.array(x['input_ids'][i], dtype=np.int32),\n",
        "                'token_type_ids': np.array(x['token_type_ids'][i], dtype=np.int32),\n",
        "                'attention_mask': np.array(x['attention_mask'][i], dtype=np.int32),\n",
        "                'start_positions': to_categorical(x['start_positions'][i], num_classes=max_length),\n",
        "                'end_positions': to_categorical(x['end_positions'][i], num_classes=max_length)\n",
        "            })\n",
        "\n",
        "    return reformat_dataset(pd.DataFrame(X))"
      ],
      "metadata": {
        "id": "lfdG8MMofDQt"
      },
      "execution_count": 13,
      "outputs": []
    },
    {
      "cell_type": "code",
      "source": [
        "X_train, Y_train = preprocess_dataset(train)\n",
        "X_val, Y_val = preprocess_dataset(validation)\n",
        "X_test, Y_test = preprocess_dataset(test)"
      ],
      "metadata": {
        "id": "r-ecQbzCdlLJ"
      },
      "execution_count": 14,
      "outputs": []
    },
    {
      "cell_type": "markdown",
      "source": [
        "## Model"
      ],
      "metadata": {
        "id": "jixbF5HytMlq"
      }
    },
    {
      "cell_type": "markdown",
      "source": [
        "first, we need to load the pretrained base model into the tensorflow environment"
      ],
      "metadata": {
        "id": "gu1cLl0UuPPv"
      }
    },
    {
      "cell_type": "code",
      "source": [
        "base_model = TFAutoModel.from_pretrained(model_name, from_pt=True)"
      ],
      "metadata": {
        "id": "FPnqrOBBzcgH",
        "colab": {
          "base_uri": "https://localhost:8080/",
          "height": 158,
          "referenced_widgets": [
            "3244d293e6ca4a889742dfc32f33380e",
            "48f80d761a61400c99be69b32f925513",
            "c5601d99526b47ca962feec940a971ae",
            "48a9a400bc0747d1a0747c0bdf6788c4",
            "1f64d7e3d1134a1dae17b9d4ad1d49e1",
            "1efecdbbea7242d1b6d08d9777d47e24",
            "9e8d603ac5a94f1898f6fffac430be26",
            "3deddb4282db4916af7307a86eacda84",
            "083cdd219534432a95c2ccfdee6642c5",
            "0cf40806770f42aaa58f1db61871e3ba",
            "681a5b012e7a435cae3b0ade0566fbe7"
          ]
        },
        "outputId": "b2ea7a1b-d644-4f35-9cf9-69c5ef5d12b1"
      },
      "execution_count": 16,
      "outputs": [
        {
          "output_type": "display_data",
          "data": {
            "text/plain": [
              "Downloading pytorch_model.bin:   0%|          | 0.00/73.1M [00:00<?, ?B/s]"
            ],
            "application/vnd.jupyter.widget-view+json": {
              "version_major": 2,
              "version_minor": 0,
              "model_id": "3244d293e6ca4a889742dfc32f33380e"
            }
          },
          "metadata": {}
        },
        {
          "output_type": "stream",
          "name": "stderr",
          "text": [
            "Some weights of the PyTorch model were not used when initializing the TF 2.0 model TFAlbertModel: ['predictions.dense.weight', 'predictions.LayerNorm.bias', 'predictions.dense.bias', 'predictions.decoder.weight', 'predictions.decoder.bias', 'sop_classifier.classifier.weight', 'predictions.bias', 'sop_classifier.classifier.bias', 'predictions.LayerNorm.weight']\n",
            "- This IS expected if you are initializing TFAlbertModel from a PyTorch model trained on another task or with another architecture (e.g. initializing a TFBertForSequenceClassification model from a BertForPreTraining model).\n",
            "- This IS NOT expected if you are initializing TFAlbertModel from a PyTorch model that you expect to be exactly identical (e.g. initializing a TFBertForSequenceClassification model from a BertForSequenceClassification model).\n",
            "All the weights of TFAlbertModel were initialized from the PyTorch model.\n",
            "If your task is similar to the task the model of the checkpoint was trained on, you can already use TFAlbertModel for predictions without further training.\n"
          ]
        }
      ]
    },
    {
      "cell_type": "code",
      "source": [
        "def build_model():\n",
        "\n",
        "    input_ids = tf.keras.Input(shape=(max_length,), dtype=tf.int32, name=\"input_ids\")\n",
        "    token_type_ids = tf.keras.Input(shape=(max_length,), dtype=tf.int32, name=\"token_type_ids\")\n",
        "    attention_mask = tf.keras.Input(shape=(max_length,), dtype=tf.int32, name=\"attention_mask\")\n",
        "\n",
        "    encoded = base_model(\n",
        "        input_ids=input_ids,\n",
        "        token_type_ids=token_type_ids,\n",
        "        attention_mask=attention_mask\n",
        "    )[0]\n",
        "\n",
        "    start_positions = tf.keras.layers.Dense(1)(encoded)\n",
        "    start_positions = tf.keras.layers.Flatten()(start_positions)\n",
        "    start_positions = tf.keras.layers.Softmax(name='start_positions')(start_positions)\n",
        "\n",
        "    end_positions = tf.keras.layers.Dense(1)(encoded)\n",
        "    end_positions = tf.keras.layers.Flatten()(end_positions)\n",
        "    end_positions = tf.keras.layers.Softmax(name='end_positions')(end_positions)\n",
        "\n",
        "    model = tf.keras.models.Model(\n",
        "        inputs=[input_ids, token_type_ids, attention_mask],\n",
        "        outputs=[start_positions, end_positions]\n",
        "    )\n",
        "\n",
        "    return model"
      ],
      "metadata": {
        "id": "ASxHzaNi5VaY"
      },
      "execution_count": 17,
      "outputs": []
    },
    {
      "cell_type": "code",
      "source": [
        "def custom_loss_function(y_true, y_pred):\n",
        "\n",
        "    loss_1 = tf.keras.losses.categorical_crossentropy(y_true[0], y_pred[0])\n",
        "    loss_2 = tf.keras.losses.categorical_crossentropy(y_true[1], y_pred[1])\n",
        "\n",
        "    return loss_1 + loss_2"
      ],
      "metadata": {
        "id": "e5BY4YTCySul"
      },
      "execution_count": 18,
      "outputs": []
    },
    {
      "cell_type": "code",
      "source": [
        "model = build_model()\n",
        "\n",
        "optimizer = tf.keras.optimizers.Adam(learning_rate=5e-5)\n",
        "model.compile(optimizer=optimizer, loss=custom_loss_function)"
      ],
      "metadata": {
        "id": "S8zmzXq2rgut"
      },
      "execution_count": 19,
      "outputs": []
    },
    {
      "cell_type": "code",
      "source": [
        "model.fit(X_train, Y_train,\n",
        "    validation_data=(X_val, Y_val),\n",
        "    batch_size=40, epochs=1)"
      ],
      "metadata": {
        "id": "9BT5iYuvv4bt",
        "colab": {
          "base_uri": "https://localhost:8080/"
        },
        "outputId": "f4382b8b-fd18-4f41-c7ea-2289514b4b40"
      },
      "execution_count": 20,
      "outputs": [
        {
          "output_type": "stream",
          "name": "stderr",
          "text": [
            "WARNING:tensorflow:Gradients do not exist for variables ['tf_albert_model/albert/pooler/kernel:0', 'tf_albert_model/albert/pooler/bias:0'] when minimizing the loss. If you're using `model.compile()`, did you forget to provide a `loss` argument?\n",
            "WARNING:tensorflow:Gradients do not exist for variables ['tf_albert_model/albert/pooler/kernel:0', 'tf_albert_model/albert/pooler/bias:0'] when minimizing the loss. If you're using `model.compile()`, did you forget to provide a `loss` argument?\n",
            "WARNING:tensorflow:Gradients do not exist for variables ['tf_albert_model/albert/pooler/kernel:0', 'tf_albert_model/albert/pooler/bias:0'] when minimizing the loss. If you're using `model.compile()`, did you forget to provide a `loss` argument?\n",
            "WARNING:tensorflow:Gradients do not exist for variables ['tf_albert_model/albert/pooler/kernel:0', 'tf_albert_model/albert/pooler/bias:0'] when minimizing the loss. If you're using `model.compile()`, did you forget to provide a `loss` argument?\n"
          ]
        },
        {
          "output_type": "stream",
          "name": "stdout",
          "text": [
            "3412/3412 [==============================] - 3311s 964ms/step - loss: 3.9188 - start_positions_loss: 1.9786 - end_positions_loss: 1.9402 - val_loss: 3.5321 - val_start_positions_loss: 1.7792 - val_end_positions_loss: 1.7530\n"
          ]
        },
        {
          "output_type": "execute_result",
          "data": {
            "text/plain": [
              "<keras.callbacks.History at 0x7f2f86464700>"
            ]
          },
          "metadata": {},
          "execution_count": 20
        }
      ]
    },
    {
      "cell_type": "markdown",
      "source": [
        "## Performance Metrics"
      ],
      "metadata": {
        "id": "wwBrSvKVIGnd"
      }
    },
    {
      "cell_type": "code",
      "source": [
        "Y_pred = model.predict(X_test)"
      ],
      "metadata": {
        "colab": {
          "base_uri": "https://localhost:8080/"
        },
        "id": "jUfpsQi3GMpX",
        "outputId": "76cccbad-a064-4357-d02f-6da0fae49b20"
      },
      "execution_count": 21,
      "outputs": [
        {
          "output_type": "stream",
          "name": "stdout",
          "text": [
            "535/535 [==============================] - 162s 298ms/step\n"
          ]
        }
      ]
    },
    {
      "cell_type": "code",
      "source": [
        "def compute_exact_match(Y_test, Y_pred):\n",
        "    start_pred = np.argmax(Y_pred[0], axis=1)\n",
        "    end_pred = np.argmax(Y_pred[1], axis=1)\n",
        "\n",
        "    start_true = np.argmax(Y_test['start_positions'], axis=1)\n",
        "    end_true = np.argmax(Y_test['end_positions'], axis=1)\n",
        "\n",
        "    correct_predictions = 0\n",
        "    total_questions = len(start_pred)\n",
        "\n",
        "    for i in range(total_questions):\n",
        "        if start_true[i] == start_pred[i] and end_true[i] == end_pred[i]:\n",
        "            correct_predictions += 1\n",
        "\n",
        "    accuracy = (correct_predictions / total_questions) * 100\n",
        "    return accuracy"
      ],
      "metadata": {
        "id": "3UNH5YSLHzEp"
      },
      "execution_count": 22,
      "outputs": []
    },
    {
      "cell_type": "code",
      "source": [
        "def mean_f1_score(Y_test, Y_pred):\n",
        "    start_pred = np.argmax(Y_pred[0], axis=1)\n",
        "    end_pred = np.argmax(Y_pred[1], axis=1)\n",
        "\n",
        "    start_true = np.argmax(Y_test['start_positions'], axis=1)\n",
        "    end_true = np.argmax(Y_test['end_positions'], axis=1)\n",
        "\n",
        "    return 50 * (f1_score(start_true, start_pred, average='micro') + f1_score(end_true, end_pred, average='micro'))"
      ],
      "metadata": {
        "id": "IVGzF_6qMxuz"
      },
      "execution_count": 23,
      "outputs": []
    },
    {
      "cell_type": "code",
      "source": [
        "print(f'exact match = {compute_exact_match(Y_test, Y_pred):.1f} %')\n",
        "print(f'f1 score = {mean_f1_score(Y_test, Y_pred):.1f} %')"
      ],
      "metadata": {
        "colab": {
          "base_uri": "https://localhost:8080/"
        },
        "id": "d_y2iOpsJ-bE",
        "outputId": "27baf7d7-361b-46f4-cc83-28e8c36de672"
      },
      "execution_count": 24,
      "outputs": [
        {
          "output_type": "stream",
          "name": "stdout",
          "text": [
            "exact match = 69.2 %\n",
            "f1 score = 76.2 %\n"
          ]
        }
      ]
    },
    {
      "cell_type": "markdown",
      "source": [
        "## Example Tests"
      ],
      "metadata": {
        "id": "IFvk0Qu-H_cu"
      }
    },
    {
      "cell_type": "code",
      "source": [
        "def display_example(i):\n",
        "\n",
        "    print('question :', test[i]['question'])\n",
        "\n",
        "    example = [test[i]]\n",
        "    X_example, Y_example = preprocess_dataset(example)\n",
        "\n",
        "    res = model(X_example)\n",
        "    start = np.argmax(res[0][0])\n",
        "    end = np.argmax(res[1][0])\n",
        "\n",
        "    print('answer :', tokenizer.decode(X_example['input_ids'][0][start:end+1]))"
      ],
      "metadata": {
        "id": "QzQ1cHLhxVe5"
      },
      "execution_count": 25,
      "outputs": []
    },
    {
      "cell_type": "code",
      "source": [
        "display_example(0)"
      ],
      "metadata": {
        "id": "sOLUcAd5zI1e",
        "colab": {
          "base_uri": "https://localhost:8080/"
        },
        "outputId": "c9393117-752b-4b42-f7e4-218216d00a2f"
      },
      "execution_count": 26,
      "outputs": [
        {
          "output_type": "stream",
          "name": "stdout",
          "text": [
            "question : کتاب مقدس دین اسلام چیست؟\n",
            "answer : قران\n"
          ]
        }
      ]
    },
    {
      "cell_type": "code",
      "source": [
        "display_example(5)"
      ],
      "metadata": {
        "colab": {
          "base_uri": "https://localhost:8080/"
        },
        "id": "0WRS5-iFEXec",
        "outputId": "17d1a760-7eb9-4048-e909-28f1d060640a"
      },
      "execution_count": 27,
      "outputs": [
        {
          "output_type": "stream",
          "name": "stdout",
          "text": [
            "question : قرآن به چه زبانی است؟\n",
            "answer : عربی\n"
          ]
        }
      ]
    },
    {
      "cell_type": "code",
      "source": [
        "display_example(10)"
      ],
      "metadata": {
        "colab": {
          "base_uri": "https://localhost:8080/"
        },
        "id": "VcSRaAC-EbAM",
        "outputId": "ca02a99b-c841-4732-9b67-3334325f0a5f"
      },
      "execution_count": 28,
      "outputs": [
        {
          "output_type": "stream",
          "name": "stdout",
          "text": [
            "question : وحی چیست؟\n",
            "answer : [CLS]\n"
          ]
        }
      ]
    },
    {
      "cell_type": "code",
      "source": [
        "display_example(100)"
      ],
      "metadata": {
        "colab": {
          "base_uri": "https://localhost:8080/"
        },
        "id": "8qMmDbMLEeqk",
        "outputId": "09e87180-41e3-4dcd-fb28-bafedc1a05e8"
      },
      "execution_count": 29,
      "outputs": [
        {
          "output_type": "stream",
          "name": "stdout",
          "text": [
            "question : از آغاز تأسیس دارالفنون چه کسانی به مخالفت با آن پرداختند؟\n",
            "answer : برخی از درباریان\n"
          ]
        }
      ]
    },
    {
      "cell_type": "code",
      "source": [
        "display_example(250)"
      ],
      "metadata": {
        "colab": {
          "base_uri": "https://localhost:8080/"
        },
        "id": "pmSd7JdoFEhM",
        "outputId": "9a8529aa-4e86-4de4-e59a-d3c9f1ea9d37"
      },
      "execution_count": 30,
      "outputs": [
        {
          "output_type": "stream",
          "name": "stdout",
          "text": [
            "question : افزوده شدن شمشیر به نقش شیر و خورشید به چه زمانی برمی‌گردد؟\n",
            "answer : دوران قاجار\n"
          ]
        }
      ]
    }
  ]
}