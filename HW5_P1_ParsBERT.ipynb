{
  "nbformat": 4,
  "nbformat_minor": 0,
  "metadata": {
    "colab": {
      "provenance": [],
      "gpuType": "T4"
    },
    "kernelspec": {
      "name": "python3",
      "display_name": "Python 3"
    },
    "language_info": {
      "name": "python"
    },
    "accelerator": "GPU",
    "widgets": {
      "application/vnd.jupyter.widget-state+json": {
        "29020b19be7a4fa7a0f6354411f4402d": {
          "model_module": "@jupyter-widgets/controls",
          "model_name": "HBoxModel",
          "model_module_version": "1.5.0",
          "state": {
            "_dom_classes": [],
            "_model_module": "@jupyter-widgets/controls",
            "_model_module_version": "1.5.0",
            "_model_name": "HBoxModel",
            "_view_count": null,
            "_view_module": "@jupyter-widgets/controls",
            "_view_module_version": "1.5.0",
            "_view_name": "HBoxView",
            "box_style": "",
            "children": [
              "IPY_MODEL_2a4c1006154f4c1395521cf38abdbd39",
              "IPY_MODEL_7d8bef565b014a25a5c168a1fe400036",
              "IPY_MODEL_49d930b947854b2e98b639feb1d25db7"
            ],
            "layout": "IPY_MODEL_686c8a06b7b04d27ac28e4273c75f524"
          }
        },
        "2a4c1006154f4c1395521cf38abdbd39": {
          "model_module": "@jupyter-widgets/controls",
          "model_name": "HTMLModel",
          "model_module_version": "1.5.0",
          "state": {
            "_dom_classes": [],
            "_model_module": "@jupyter-widgets/controls",
            "_model_module_version": "1.5.0",
            "_model_name": "HTMLModel",
            "_view_count": null,
            "_view_module": "@jupyter-widgets/controls",
            "_view_module_version": "1.5.0",
            "_view_name": "HTMLView",
            "description": "",
            "description_tooltip": null,
            "layout": "IPY_MODEL_d71e2e044b544c669f85bc8f824b47ee",
            "placeholder": "​",
            "style": "IPY_MODEL_4e18a454dc494dd8b5414e03d6889c74",
            "value": "Downloading (…)lve/main/config.json: 100%"
          }
        },
        "7d8bef565b014a25a5c168a1fe400036": {
          "model_module": "@jupyter-widgets/controls",
          "model_name": "FloatProgressModel",
          "model_module_version": "1.5.0",
          "state": {
            "_dom_classes": [],
            "_model_module": "@jupyter-widgets/controls",
            "_model_module_version": "1.5.0",
            "_model_name": "FloatProgressModel",
            "_view_count": null,
            "_view_module": "@jupyter-widgets/controls",
            "_view_module_version": "1.5.0",
            "_view_name": "ProgressView",
            "bar_style": "success",
            "description": "",
            "description_tooltip": null,
            "layout": "IPY_MODEL_ce55fa8ccff240e9be2853a44f516484",
            "max": 434,
            "min": 0,
            "orientation": "horizontal",
            "style": "IPY_MODEL_4738b90c0b9748379d3e7701567362d2",
            "value": 434
          }
        },
        "49d930b947854b2e98b639feb1d25db7": {
          "model_module": "@jupyter-widgets/controls",
          "model_name": "HTMLModel",
          "model_module_version": "1.5.0",
          "state": {
            "_dom_classes": [],
            "_model_module": "@jupyter-widgets/controls",
            "_model_module_version": "1.5.0",
            "_model_name": "HTMLModel",
            "_view_count": null,
            "_view_module": "@jupyter-widgets/controls",
            "_view_module_version": "1.5.0",
            "_view_name": "HTMLView",
            "description": "",
            "description_tooltip": null,
            "layout": "IPY_MODEL_7ee20c47df0e43809a1ac05c8ac63b88",
            "placeholder": "​",
            "style": "IPY_MODEL_5bbc12ebb5484f9bb8930f0e9749b543",
            "value": " 434/434 [00:00&lt;00:00, 29.4kB/s]"
          }
        },
        "686c8a06b7b04d27ac28e4273c75f524": {
          "model_module": "@jupyter-widgets/base",
          "model_name": "LayoutModel",
          "model_module_version": "1.2.0",
          "state": {
            "_model_module": "@jupyter-widgets/base",
            "_model_module_version": "1.2.0",
            "_model_name": "LayoutModel",
            "_view_count": null,
            "_view_module": "@jupyter-widgets/base",
            "_view_module_version": "1.2.0",
            "_view_name": "LayoutView",
            "align_content": null,
            "align_items": null,
            "align_self": null,
            "border": null,
            "bottom": null,
            "display": null,
            "flex": null,
            "flex_flow": null,
            "grid_area": null,
            "grid_auto_columns": null,
            "grid_auto_flow": null,
            "grid_auto_rows": null,
            "grid_column": null,
            "grid_gap": null,
            "grid_row": null,
            "grid_template_areas": null,
            "grid_template_columns": null,
            "grid_template_rows": null,
            "height": null,
            "justify_content": null,
            "justify_items": null,
            "left": null,
            "margin": null,
            "max_height": null,
            "max_width": null,
            "min_height": null,
            "min_width": null,
            "object_fit": null,
            "object_position": null,
            "order": null,
            "overflow": null,
            "overflow_x": null,
            "overflow_y": null,
            "padding": null,
            "right": null,
            "top": null,
            "visibility": null,
            "width": null
          }
        },
        "d71e2e044b544c669f85bc8f824b47ee": {
          "model_module": "@jupyter-widgets/base",
          "model_name": "LayoutModel",
          "model_module_version": "1.2.0",
          "state": {
            "_model_module": "@jupyter-widgets/base",
            "_model_module_version": "1.2.0",
            "_model_name": "LayoutModel",
            "_view_count": null,
            "_view_module": "@jupyter-widgets/base",
            "_view_module_version": "1.2.0",
            "_view_name": "LayoutView",
            "align_content": null,
            "align_items": null,
            "align_self": null,
            "border": null,
            "bottom": null,
            "display": null,
            "flex": null,
            "flex_flow": null,
            "grid_area": null,
            "grid_auto_columns": null,
            "grid_auto_flow": null,
            "grid_auto_rows": null,
            "grid_column": null,
            "grid_gap": null,
            "grid_row": null,
            "grid_template_areas": null,
            "grid_template_columns": null,
            "grid_template_rows": null,
            "height": null,
            "justify_content": null,
            "justify_items": null,
            "left": null,
            "margin": null,
            "max_height": null,
            "max_width": null,
            "min_height": null,
            "min_width": null,
            "object_fit": null,
            "object_position": null,
            "order": null,
            "overflow": null,
            "overflow_x": null,
            "overflow_y": null,
            "padding": null,
            "right": null,
            "top": null,
            "visibility": null,
            "width": null
          }
        },
        "4e18a454dc494dd8b5414e03d6889c74": {
          "model_module": "@jupyter-widgets/controls",
          "model_name": "DescriptionStyleModel",
          "model_module_version": "1.5.0",
          "state": {
            "_model_module": "@jupyter-widgets/controls",
            "_model_module_version": "1.5.0",
            "_model_name": "DescriptionStyleModel",
            "_view_count": null,
            "_view_module": "@jupyter-widgets/base",
            "_view_module_version": "1.2.0",
            "_view_name": "StyleView",
            "description_width": ""
          }
        },
        "ce55fa8ccff240e9be2853a44f516484": {
          "model_module": "@jupyter-widgets/base",
          "model_name": "LayoutModel",
          "model_module_version": "1.2.0",
          "state": {
            "_model_module": "@jupyter-widgets/base",
            "_model_module_version": "1.2.0",
            "_model_name": "LayoutModel",
            "_view_count": null,
            "_view_module": "@jupyter-widgets/base",
            "_view_module_version": "1.2.0",
            "_view_name": "LayoutView",
            "align_content": null,
            "align_items": null,
            "align_self": null,
            "border": null,
            "bottom": null,
            "display": null,
            "flex": null,
            "flex_flow": null,
            "grid_area": null,
            "grid_auto_columns": null,
            "grid_auto_flow": null,
            "grid_auto_rows": null,
            "grid_column": null,
            "grid_gap": null,
            "grid_row": null,
            "grid_template_areas": null,
            "grid_template_columns": null,
            "grid_template_rows": null,
            "height": null,
            "justify_content": null,
            "justify_items": null,
            "left": null,
            "margin": null,
            "max_height": null,
            "max_width": null,
            "min_height": null,
            "min_width": null,
            "object_fit": null,
            "object_position": null,
            "order": null,
            "overflow": null,
            "overflow_x": null,
            "overflow_y": null,
            "padding": null,
            "right": null,
            "top": null,
            "visibility": null,
            "width": null
          }
        },
        "4738b90c0b9748379d3e7701567362d2": {
          "model_module": "@jupyter-widgets/controls",
          "model_name": "ProgressStyleModel",
          "model_module_version": "1.5.0",
          "state": {
            "_model_module": "@jupyter-widgets/controls",
            "_model_module_version": "1.5.0",
            "_model_name": "ProgressStyleModel",
            "_view_count": null,
            "_view_module": "@jupyter-widgets/base",
            "_view_module_version": "1.2.0",
            "_view_name": "StyleView",
            "bar_color": null,
            "description_width": ""
          }
        },
        "7ee20c47df0e43809a1ac05c8ac63b88": {
          "model_module": "@jupyter-widgets/base",
          "model_name": "LayoutModel",
          "model_module_version": "1.2.0",
          "state": {
            "_model_module": "@jupyter-widgets/base",
            "_model_module_version": "1.2.0",
            "_model_name": "LayoutModel",
            "_view_count": null,
            "_view_module": "@jupyter-widgets/base",
            "_view_module_version": "1.2.0",
            "_view_name": "LayoutView",
            "align_content": null,
            "align_items": null,
            "align_self": null,
            "border": null,
            "bottom": null,
            "display": null,
            "flex": null,
            "flex_flow": null,
            "grid_area": null,
            "grid_auto_columns": null,
            "grid_auto_flow": null,
            "grid_auto_rows": null,
            "grid_column": null,
            "grid_gap": null,
            "grid_row": null,
            "grid_template_areas": null,
            "grid_template_columns": null,
            "grid_template_rows": null,
            "height": null,
            "justify_content": null,
            "justify_items": null,
            "left": null,
            "margin": null,
            "max_height": null,
            "max_width": null,
            "min_height": null,
            "min_width": null,
            "object_fit": null,
            "object_position": null,
            "order": null,
            "overflow": null,
            "overflow_x": null,
            "overflow_y": null,
            "padding": null,
            "right": null,
            "top": null,
            "visibility": null,
            "width": null
          }
        },
        "5bbc12ebb5484f9bb8930f0e9749b543": {
          "model_module": "@jupyter-widgets/controls",
          "model_name": "DescriptionStyleModel",
          "model_module_version": "1.5.0",
          "state": {
            "_model_module": "@jupyter-widgets/controls",
            "_model_module_version": "1.5.0",
            "_model_name": "DescriptionStyleModel",
            "_view_count": null,
            "_view_module": "@jupyter-widgets/base",
            "_view_module_version": "1.2.0",
            "_view_name": "StyleView",
            "description_width": ""
          }
        },
        "6121de55c3f041fe92a4155f07d3d95f": {
          "model_module": "@jupyter-widgets/controls",
          "model_name": "HBoxModel",
          "model_module_version": "1.5.0",
          "state": {
            "_dom_classes": [],
            "_model_module": "@jupyter-widgets/controls",
            "_model_module_version": "1.5.0",
            "_model_name": "HBoxModel",
            "_view_count": null,
            "_view_module": "@jupyter-widgets/controls",
            "_view_module_version": "1.5.0",
            "_view_name": "HBoxView",
            "box_style": "",
            "children": [
              "IPY_MODEL_ae65eeb0555b4cfc989842b9345938a0",
              "IPY_MODEL_213fd1f2e74c4500a251d824b7196fd4",
              "IPY_MODEL_aabc0fdb65cb44b79f4a462ae523e7ce"
            ],
            "layout": "IPY_MODEL_44fda9d6933843aca42388590f02adde"
          }
        },
        "ae65eeb0555b4cfc989842b9345938a0": {
          "model_module": "@jupyter-widgets/controls",
          "model_name": "HTMLModel",
          "model_module_version": "1.5.0",
          "state": {
            "_dom_classes": [],
            "_model_module": "@jupyter-widgets/controls",
            "_model_module_version": "1.5.0",
            "_model_name": "HTMLModel",
            "_view_count": null,
            "_view_module": "@jupyter-widgets/controls",
            "_view_module_version": "1.5.0",
            "_view_name": "HTMLView",
            "description": "",
            "description_tooltip": null,
            "layout": "IPY_MODEL_67c7b6c3433f4c0b911d286dcc377aa0",
            "placeholder": "​",
            "style": "IPY_MODEL_af38b7aad4ba4744b1867c4461171ea4",
            "value": "Downloading (…)solve/main/vocab.txt: 100%"
          }
        },
        "213fd1f2e74c4500a251d824b7196fd4": {
          "model_module": "@jupyter-widgets/controls",
          "model_name": "FloatProgressModel",
          "model_module_version": "1.5.0",
          "state": {
            "_dom_classes": [],
            "_model_module": "@jupyter-widgets/controls",
            "_model_module_version": "1.5.0",
            "_model_name": "FloatProgressModel",
            "_view_count": null,
            "_view_module": "@jupyter-widgets/controls",
            "_view_module_version": "1.5.0",
            "_view_name": "ProgressView",
            "bar_style": "success",
            "description": "",
            "description_tooltip": null,
            "layout": "IPY_MODEL_6fee6041c6fc4adcba43317ac8ee253d",
            "max": 1215509,
            "min": 0,
            "orientation": "horizontal",
            "style": "IPY_MODEL_48c52d3e098d4e768be5c9d76f21359d",
            "value": 1215509
          }
        },
        "aabc0fdb65cb44b79f4a462ae523e7ce": {
          "model_module": "@jupyter-widgets/controls",
          "model_name": "HTMLModel",
          "model_module_version": "1.5.0",
          "state": {
            "_dom_classes": [],
            "_model_module": "@jupyter-widgets/controls",
            "_model_module_version": "1.5.0",
            "_model_name": "HTMLModel",
            "_view_count": null,
            "_view_module": "@jupyter-widgets/controls",
            "_view_module_version": "1.5.0",
            "_view_name": "HTMLView",
            "description": "",
            "description_tooltip": null,
            "layout": "IPY_MODEL_6f5246bd0ea84160b0037bc01de1bda8",
            "placeholder": "​",
            "style": "IPY_MODEL_e68d2d3624e44675b4ce93a2d29d5a39",
            "value": " 1.22M/1.22M [00:00&lt;00:00, 48.3MB/s]"
          }
        },
        "44fda9d6933843aca42388590f02adde": {
          "model_module": "@jupyter-widgets/base",
          "model_name": "LayoutModel",
          "model_module_version": "1.2.0",
          "state": {
            "_model_module": "@jupyter-widgets/base",
            "_model_module_version": "1.2.0",
            "_model_name": "LayoutModel",
            "_view_count": null,
            "_view_module": "@jupyter-widgets/base",
            "_view_module_version": "1.2.0",
            "_view_name": "LayoutView",
            "align_content": null,
            "align_items": null,
            "align_self": null,
            "border": null,
            "bottom": null,
            "display": null,
            "flex": null,
            "flex_flow": null,
            "grid_area": null,
            "grid_auto_columns": null,
            "grid_auto_flow": null,
            "grid_auto_rows": null,
            "grid_column": null,
            "grid_gap": null,
            "grid_row": null,
            "grid_template_areas": null,
            "grid_template_columns": null,
            "grid_template_rows": null,
            "height": null,
            "justify_content": null,
            "justify_items": null,
            "left": null,
            "margin": null,
            "max_height": null,
            "max_width": null,
            "min_height": null,
            "min_width": null,
            "object_fit": null,
            "object_position": null,
            "order": null,
            "overflow": null,
            "overflow_x": null,
            "overflow_y": null,
            "padding": null,
            "right": null,
            "top": null,
            "visibility": null,
            "width": null
          }
        },
        "67c7b6c3433f4c0b911d286dcc377aa0": {
          "model_module": "@jupyter-widgets/base",
          "model_name": "LayoutModel",
          "model_module_version": "1.2.0",
          "state": {
            "_model_module": "@jupyter-widgets/base",
            "_model_module_version": "1.2.0",
            "_model_name": "LayoutModel",
            "_view_count": null,
            "_view_module": "@jupyter-widgets/base",
            "_view_module_version": "1.2.0",
            "_view_name": "LayoutView",
            "align_content": null,
            "align_items": null,
            "align_self": null,
            "border": null,
            "bottom": null,
            "display": null,
            "flex": null,
            "flex_flow": null,
            "grid_area": null,
            "grid_auto_columns": null,
            "grid_auto_flow": null,
            "grid_auto_rows": null,
            "grid_column": null,
            "grid_gap": null,
            "grid_row": null,
            "grid_template_areas": null,
            "grid_template_columns": null,
            "grid_template_rows": null,
            "height": null,
            "justify_content": null,
            "justify_items": null,
            "left": null,
            "margin": null,
            "max_height": null,
            "max_width": null,
            "min_height": null,
            "min_width": null,
            "object_fit": null,
            "object_position": null,
            "order": null,
            "overflow": null,
            "overflow_x": null,
            "overflow_y": null,
            "padding": null,
            "right": null,
            "top": null,
            "visibility": null,
            "width": null
          }
        },
        "af38b7aad4ba4744b1867c4461171ea4": {
          "model_module": "@jupyter-widgets/controls",
          "model_name": "DescriptionStyleModel",
          "model_module_version": "1.5.0",
          "state": {
            "_model_module": "@jupyter-widgets/controls",
            "_model_module_version": "1.5.0",
            "_model_name": "DescriptionStyleModel",
            "_view_count": null,
            "_view_module": "@jupyter-widgets/base",
            "_view_module_version": "1.2.0",
            "_view_name": "StyleView",
            "description_width": ""
          }
        },
        "6fee6041c6fc4adcba43317ac8ee253d": {
          "model_module": "@jupyter-widgets/base",
          "model_name": "LayoutModel",
          "model_module_version": "1.2.0",
          "state": {
            "_model_module": "@jupyter-widgets/base",
            "_model_module_version": "1.2.0",
            "_model_name": "LayoutModel",
            "_view_count": null,
            "_view_module": "@jupyter-widgets/base",
            "_view_module_version": "1.2.0",
            "_view_name": "LayoutView",
            "align_content": null,
            "align_items": null,
            "align_self": null,
            "border": null,
            "bottom": null,
            "display": null,
            "flex": null,
            "flex_flow": null,
            "grid_area": null,
            "grid_auto_columns": null,
            "grid_auto_flow": null,
            "grid_auto_rows": null,
            "grid_column": null,
            "grid_gap": null,
            "grid_row": null,
            "grid_template_areas": null,
            "grid_template_columns": null,
            "grid_template_rows": null,
            "height": null,
            "justify_content": null,
            "justify_items": null,
            "left": null,
            "margin": null,
            "max_height": null,
            "max_width": null,
            "min_height": null,
            "min_width": null,
            "object_fit": null,
            "object_position": null,
            "order": null,
            "overflow": null,
            "overflow_x": null,
            "overflow_y": null,
            "padding": null,
            "right": null,
            "top": null,
            "visibility": null,
            "width": null
          }
        },
        "48c52d3e098d4e768be5c9d76f21359d": {
          "model_module": "@jupyter-widgets/controls",
          "model_name": "ProgressStyleModel",
          "model_module_version": "1.5.0",
          "state": {
            "_model_module": "@jupyter-widgets/controls",
            "_model_module_version": "1.5.0",
            "_model_name": "ProgressStyleModel",
            "_view_count": null,
            "_view_module": "@jupyter-widgets/base",
            "_view_module_version": "1.2.0",
            "_view_name": "StyleView",
            "bar_color": null,
            "description_width": ""
          }
        },
        "6f5246bd0ea84160b0037bc01de1bda8": {
          "model_module": "@jupyter-widgets/base",
          "model_name": "LayoutModel",
          "model_module_version": "1.2.0",
          "state": {
            "_model_module": "@jupyter-widgets/base",
            "_model_module_version": "1.2.0",
            "_model_name": "LayoutModel",
            "_view_count": null,
            "_view_module": "@jupyter-widgets/base",
            "_view_module_version": "1.2.0",
            "_view_name": "LayoutView",
            "align_content": null,
            "align_items": null,
            "align_self": null,
            "border": null,
            "bottom": null,
            "display": null,
            "flex": null,
            "flex_flow": null,
            "grid_area": null,
            "grid_auto_columns": null,
            "grid_auto_flow": null,
            "grid_auto_rows": null,
            "grid_column": null,
            "grid_gap": null,
            "grid_row": null,
            "grid_template_areas": null,
            "grid_template_columns": null,
            "grid_template_rows": null,
            "height": null,
            "justify_content": null,
            "justify_items": null,
            "left": null,
            "margin": null,
            "max_height": null,
            "max_width": null,
            "min_height": null,
            "min_width": null,
            "object_fit": null,
            "object_position": null,
            "order": null,
            "overflow": null,
            "overflow_x": null,
            "overflow_y": null,
            "padding": null,
            "right": null,
            "top": null,
            "visibility": null,
            "width": null
          }
        },
        "e68d2d3624e44675b4ce93a2d29d5a39": {
          "model_module": "@jupyter-widgets/controls",
          "model_name": "DescriptionStyleModel",
          "model_module_version": "1.5.0",
          "state": {
            "_model_module": "@jupyter-widgets/controls",
            "_model_module_version": "1.5.0",
            "_model_name": "DescriptionStyleModel",
            "_view_count": null,
            "_view_module": "@jupyter-widgets/base",
            "_view_module_version": "1.2.0",
            "_view_name": "StyleView",
            "description_width": ""
          }
        },
        "ae541f8cc6564584ab459ccdcd8868ea": {
          "model_module": "@jupyter-widgets/controls",
          "model_name": "HBoxModel",
          "model_module_version": "1.5.0",
          "state": {
            "_dom_classes": [],
            "_model_module": "@jupyter-widgets/controls",
            "_model_module_version": "1.5.0",
            "_model_name": "HBoxModel",
            "_view_count": null,
            "_view_module": "@jupyter-widgets/controls",
            "_view_module_version": "1.5.0",
            "_view_name": "HBoxView",
            "box_style": "",
            "children": [
              "IPY_MODEL_ed7e4ea9e54b431d81dcdd79b47578db",
              "IPY_MODEL_8dc93a92a7184bba8b08bee5dc3e3229",
              "IPY_MODEL_e23805ba42df45de96e1051fca263b55"
            ],
            "layout": "IPY_MODEL_950b224f9eda4afeaa4cc3b9ee99ec84"
          }
        },
        "ed7e4ea9e54b431d81dcdd79b47578db": {
          "model_module": "@jupyter-widgets/controls",
          "model_name": "HTMLModel",
          "model_module_version": "1.5.0",
          "state": {
            "_dom_classes": [],
            "_model_module": "@jupyter-widgets/controls",
            "_model_module_version": "1.5.0",
            "_model_name": "HTMLModel",
            "_view_count": null,
            "_view_module": "@jupyter-widgets/controls",
            "_view_module_version": "1.5.0",
            "_view_name": "HTMLView",
            "description": "",
            "description_tooltip": null,
            "layout": "IPY_MODEL_714d294e5c2f4c3e887651caa954133b",
            "placeholder": "​",
            "style": "IPY_MODEL_cdcf1e43cd2e4b8e98c2574f9570f2b5",
            "value": "Downloading tf_model.h5: 100%"
          }
        },
        "8dc93a92a7184bba8b08bee5dc3e3229": {
          "model_module": "@jupyter-widgets/controls",
          "model_name": "FloatProgressModel",
          "model_module_version": "1.5.0",
          "state": {
            "_dom_classes": [],
            "_model_module": "@jupyter-widgets/controls",
            "_model_module_version": "1.5.0",
            "_model_name": "FloatProgressModel",
            "_view_count": null,
            "_view_module": "@jupyter-widgets/controls",
            "_view_module_version": "1.5.0",
            "_view_name": "ProgressView",
            "bar_style": "success",
            "description": "",
            "description_tooltip": null,
            "layout": "IPY_MODEL_f59414f1eadb48e29ed9d676aca53b76",
            "max": 963211760,
            "min": 0,
            "orientation": "horizontal",
            "style": "IPY_MODEL_0ad78f3c52204fbea4b0eaeb422ea832",
            "value": 963211760
          }
        },
        "e23805ba42df45de96e1051fca263b55": {
          "model_module": "@jupyter-widgets/controls",
          "model_name": "HTMLModel",
          "model_module_version": "1.5.0",
          "state": {
            "_dom_classes": [],
            "_model_module": "@jupyter-widgets/controls",
            "_model_module_version": "1.5.0",
            "_model_name": "HTMLModel",
            "_view_count": null,
            "_view_module": "@jupyter-widgets/controls",
            "_view_module_version": "1.5.0",
            "_view_name": "HTMLView",
            "description": "",
            "description_tooltip": null,
            "layout": "IPY_MODEL_a3b37769d7e8430ebcc8b5d9905e3475",
            "placeholder": "​",
            "style": "IPY_MODEL_998e16cd1ffd44e0bb0832f4af0efef3",
            "value": " 963M/963M [00:03&lt;00:00, 249MB/s]"
          }
        },
        "950b224f9eda4afeaa4cc3b9ee99ec84": {
          "model_module": "@jupyter-widgets/base",
          "model_name": "LayoutModel",
          "model_module_version": "1.2.0",
          "state": {
            "_model_module": "@jupyter-widgets/base",
            "_model_module_version": "1.2.0",
            "_model_name": "LayoutModel",
            "_view_count": null,
            "_view_module": "@jupyter-widgets/base",
            "_view_module_version": "1.2.0",
            "_view_name": "LayoutView",
            "align_content": null,
            "align_items": null,
            "align_self": null,
            "border": null,
            "bottom": null,
            "display": null,
            "flex": null,
            "flex_flow": null,
            "grid_area": null,
            "grid_auto_columns": null,
            "grid_auto_flow": null,
            "grid_auto_rows": null,
            "grid_column": null,
            "grid_gap": null,
            "grid_row": null,
            "grid_template_areas": null,
            "grid_template_columns": null,
            "grid_template_rows": null,
            "height": null,
            "justify_content": null,
            "justify_items": null,
            "left": null,
            "margin": null,
            "max_height": null,
            "max_width": null,
            "min_height": null,
            "min_width": null,
            "object_fit": null,
            "object_position": null,
            "order": null,
            "overflow": null,
            "overflow_x": null,
            "overflow_y": null,
            "padding": null,
            "right": null,
            "top": null,
            "visibility": null,
            "width": null
          }
        },
        "714d294e5c2f4c3e887651caa954133b": {
          "model_module": "@jupyter-widgets/base",
          "model_name": "LayoutModel",
          "model_module_version": "1.2.0",
          "state": {
            "_model_module": "@jupyter-widgets/base",
            "_model_module_version": "1.2.0",
            "_model_name": "LayoutModel",
            "_view_count": null,
            "_view_module": "@jupyter-widgets/base",
            "_view_module_version": "1.2.0",
            "_view_name": "LayoutView",
            "align_content": null,
            "align_items": null,
            "align_self": null,
            "border": null,
            "bottom": null,
            "display": null,
            "flex": null,
            "flex_flow": null,
            "grid_area": null,
            "grid_auto_columns": null,
            "grid_auto_flow": null,
            "grid_auto_rows": null,
            "grid_column": null,
            "grid_gap": null,
            "grid_row": null,
            "grid_template_areas": null,
            "grid_template_columns": null,
            "grid_template_rows": null,
            "height": null,
            "justify_content": null,
            "justify_items": null,
            "left": null,
            "margin": null,
            "max_height": null,
            "max_width": null,
            "min_height": null,
            "min_width": null,
            "object_fit": null,
            "object_position": null,
            "order": null,
            "overflow": null,
            "overflow_x": null,
            "overflow_y": null,
            "padding": null,
            "right": null,
            "top": null,
            "visibility": null,
            "width": null
          }
        },
        "cdcf1e43cd2e4b8e98c2574f9570f2b5": {
          "model_module": "@jupyter-widgets/controls",
          "model_name": "DescriptionStyleModel",
          "model_module_version": "1.5.0",
          "state": {
            "_model_module": "@jupyter-widgets/controls",
            "_model_module_version": "1.5.0",
            "_model_name": "DescriptionStyleModel",
            "_view_count": null,
            "_view_module": "@jupyter-widgets/base",
            "_view_module_version": "1.2.0",
            "_view_name": "StyleView",
            "description_width": ""
          }
        },
        "f59414f1eadb48e29ed9d676aca53b76": {
          "model_module": "@jupyter-widgets/base",
          "model_name": "LayoutModel",
          "model_module_version": "1.2.0",
          "state": {
            "_model_module": "@jupyter-widgets/base",
            "_model_module_version": "1.2.0",
            "_model_name": "LayoutModel",
            "_view_count": null,
            "_view_module": "@jupyter-widgets/base",
            "_view_module_version": "1.2.0",
            "_view_name": "LayoutView",
            "align_content": null,
            "align_items": null,
            "align_self": null,
            "border": null,
            "bottom": null,
            "display": null,
            "flex": null,
            "flex_flow": null,
            "grid_area": null,
            "grid_auto_columns": null,
            "grid_auto_flow": null,
            "grid_auto_rows": null,
            "grid_column": null,
            "grid_gap": null,
            "grid_row": null,
            "grid_template_areas": null,
            "grid_template_columns": null,
            "grid_template_rows": null,
            "height": null,
            "justify_content": null,
            "justify_items": null,
            "left": null,
            "margin": null,
            "max_height": null,
            "max_width": null,
            "min_height": null,
            "min_width": null,
            "object_fit": null,
            "object_position": null,
            "order": null,
            "overflow": null,
            "overflow_x": null,
            "overflow_y": null,
            "padding": null,
            "right": null,
            "top": null,
            "visibility": null,
            "width": null
          }
        },
        "0ad78f3c52204fbea4b0eaeb422ea832": {
          "model_module": "@jupyter-widgets/controls",
          "model_name": "ProgressStyleModel",
          "model_module_version": "1.5.0",
          "state": {
            "_model_module": "@jupyter-widgets/controls",
            "_model_module_version": "1.5.0",
            "_model_name": "ProgressStyleModel",
            "_view_count": null,
            "_view_module": "@jupyter-widgets/base",
            "_view_module_version": "1.2.0",
            "_view_name": "StyleView",
            "bar_color": null,
            "description_width": ""
          }
        },
        "a3b37769d7e8430ebcc8b5d9905e3475": {
          "model_module": "@jupyter-widgets/base",
          "model_name": "LayoutModel",
          "model_module_version": "1.2.0",
          "state": {
            "_model_module": "@jupyter-widgets/base",
            "_model_module_version": "1.2.0",
            "_model_name": "LayoutModel",
            "_view_count": null,
            "_view_module": "@jupyter-widgets/base",
            "_view_module_version": "1.2.0",
            "_view_name": "LayoutView",
            "align_content": null,
            "align_items": null,
            "align_self": null,
            "border": null,
            "bottom": null,
            "display": null,
            "flex": null,
            "flex_flow": null,
            "grid_area": null,
            "grid_auto_columns": null,
            "grid_auto_flow": null,
            "grid_auto_rows": null,
            "grid_column": null,
            "grid_gap": null,
            "grid_row": null,
            "grid_template_areas": null,
            "grid_template_columns": null,
            "grid_template_rows": null,
            "height": null,
            "justify_content": null,
            "justify_items": null,
            "left": null,
            "margin": null,
            "max_height": null,
            "max_width": null,
            "min_height": null,
            "min_width": null,
            "object_fit": null,
            "object_position": null,
            "order": null,
            "overflow": null,
            "overflow_x": null,
            "overflow_y": null,
            "padding": null,
            "right": null,
            "top": null,
            "visibility": null,
            "width": null
          }
        },
        "998e16cd1ffd44e0bb0832f4af0efef3": {
          "model_module": "@jupyter-widgets/controls",
          "model_name": "DescriptionStyleModel",
          "model_module_version": "1.5.0",
          "state": {
            "_model_module": "@jupyter-widgets/controls",
            "_model_module_version": "1.5.0",
            "_model_name": "DescriptionStyleModel",
            "_view_count": null,
            "_view_module": "@jupyter-widgets/base",
            "_view_module_version": "1.2.0",
            "_view_name": "StyleView",
            "description_width": ""
          }
        }
      }
    }
  },
  "cells": [
    {
      "cell_type": "code",
      "execution_count": 1,
      "metadata": {
        "colab": {
          "base_uri": "https://localhost:8080/"
        },
        "id": "A5wGTHNkuvDu",
        "outputId": "a06e0972-91b2-4306-a732-166425cd42d8"
      },
      "outputs": [
        {
          "output_type": "stream",
          "name": "stdout",
          "text": [
            "\u001b[2K     \u001b[90m━━━━━━━━━━━━━━━━━━━━━━━━━━━━━━━━━━━━━━━━\u001b[0m \u001b[32m7.1/7.1 MB\u001b[0m \u001b[31m61.9 MB/s\u001b[0m eta \u001b[36m0:00:00\u001b[0m\n",
            "\u001b[2K     \u001b[90m━━━━━━━━━━━━━━━━━━━━━━━━━━━━━━━━━━━━━━\u001b[0m \u001b[32m236.8/236.8 kB\u001b[0m \u001b[31m21.2 MB/s\u001b[0m eta \u001b[36m0:00:00\u001b[0m\n",
            "\u001b[2K     \u001b[90m━━━━━━━━━━━━━━━━━━━━━━━━━━━━━━━━━━━━━━━━\u001b[0m \u001b[32m7.8/7.8 MB\u001b[0m \u001b[31m64.3 MB/s\u001b[0m eta \u001b[36m0:00:00\u001b[0m\n",
            "\u001b[?25h"
          ]
        }
      ],
      "source": [
        "! git clone -q https://github.com/AUT-NLP/PQuAD.git\n",
        "! pip install -q transformers"
      ]
    },
    {
      "cell_type": "code",
      "source": [
        "import json\n",
        "import numpy as np\n",
        "import pandas as pd\n",
        "\n",
        "import tensorflow as tf\n",
        "from tensorflow.keras.utils import to_categorical\n",
        "\n",
        "from sklearn.metrics import f1_score\n",
        "\n",
        "from transformers import AutoTokenizer, TFAutoModel"
      ],
      "metadata": {
        "id": "TNXpqKQpTC_S"
      },
      "execution_count": 2,
      "outputs": []
    },
    {
      "cell_type": "code",
      "source": [
        "max_length = 128\n",
        "doc_stride = 16\n",
        "model_name = \"HooshvareLab/bert-base-parsbert-uncased\"\n",
        "\n",
        "tokenizer = AutoTokenizer.from_pretrained(model_name)"
      ],
      "metadata": {
        "id": "CXzbwBQuXhp6",
        "colab": {
          "base_uri": "https://localhost:8080/",
          "height": 81,
          "referenced_widgets": [
            "29020b19be7a4fa7a0f6354411f4402d",
            "2a4c1006154f4c1395521cf38abdbd39",
            "7d8bef565b014a25a5c168a1fe400036",
            "49d930b947854b2e98b639feb1d25db7",
            "686c8a06b7b04d27ac28e4273c75f524",
            "d71e2e044b544c669f85bc8f824b47ee",
            "4e18a454dc494dd8b5414e03d6889c74",
            "ce55fa8ccff240e9be2853a44f516484",
            "4738b90c0b9748379d3e7701567362d2",
            "7ee20c47df0e43809a1ac05c8ac63b88",
            "5bbc12ebb5484f9bb8930f0e9749b543",
            "6121de55c3f041fe92a4155f07d3d95f",
            "ae65eeb0555b4cfc989842b9345938a0",
            "213fd1f2e74c4500a251d824b7196fd4",
            "aabc0fdb65cb44b79f4a462ae523e7ce",
            "44fda9d6933843aca42388590f02adde",
            "67c7b6c3433f4c0b911d286dcc377aa0",
            "af38b7aad4ba4744b1867c4461171ea4",
            "6fee6041c6fc4adcba43317ac8ee253d",
            "48c52d3e098d4e768be5c9d76f21359d",
            "6f5246bd0ea84160b0037bc01de1bda8",
            "e68d2d3624e44675b4ce93a2d29d5a39"
          ]
        },
        "outputId": "c33e6363-4199-447e-a70b-07db609e49f2"
      },
      "execution_count": 3,
      "outputs": [
        {
          "output_type": "display_data",
          "data": {
            "text/plain": [
              "Downloading (…)lve/main/config.json:   0%|          | 0.00/434 [00:00<?, ?B/s]"
            ],
            "application/vnd.jupyter.widget-view+json": {
              "version_major": 2,
              "version_minor": 0,
              "model_id": "29020b19be7a4fa7a0f6354411f4402d"
            }
          },
          "metadata": {}
        },
        {
          "output_type": "display_data",
          "data": {
            "text/plain": [
              "Downloading (…)solve/main/vocab.txt:   0%|          | 0.00/1.22M [00:00<?, ?B/s]"
            ],
            "application/vnd.jupyter.widget-view+json": {
              "version_major": 2,
              "version_minor": 0,
              "model_id": "6121de55c3f041fe92a4155f07d3d95f"
            }
          },
          "metadata": {}
        }
      ]
    },
    {
      "cell_type": "markdown",
      "source": [
        "## Loading Dataset"
      ],
      "metadata": {
        "id": "QuCCAWt5rDq6"
      }
    },
    {
      "cell_type": "code",
      "source": [
        "def simplify_dataset(dataset):\n",
        "    simplified_data = []\n",
        "\n",
        "    for document in dataset['data']:\n",
        "        for paragraph in document['paragraphs']:\n",
        "            for qa in paragraph['qas']:\n",
        "                entry = {\n",
        "                    'id': qa['id'],\n",
        "                    'title': document['title'],\n",
        "                    'context': paragraph['context'],\n",
        "                    'question': qa['question'],\n",
        "                    'is_impossible': qa['is_impossible']\n",
        "                }\n",
        "                if not qa['is_impossible']:\n",
        "                    entry['answer'] = {\n",
        "                        'text': qa['answers'][0]['text'],\n",
        "                        'answer_start': qa['answers'][0]['answer_start']\n",
        "                    }\n",
        "\n",
        "                simplified_data.append(entry)\n",
        "\n",
        "    return simplified_data"
      ],
      "metadata": {
        "id": "9BEO4_kZR0gc"
      },
      "execution_count": 4,
      "outputs": []
    },
    {
      "cell_type": "code",
      "source": [
        "def load_pquad():\n",
        "\n",
        "    with open('PQuAD/Dataset/Train.json') as f:\n",
        "        train = json.load(f)\n",
        "        train = simplify_dataset(train)\n",
        "\n",
        "    with open('PQuAD/Dataset/Validation.json') as f:\n",
        "        validation = json.load(f)\n",
        "        validation = simplify_dataset(validation)\n",
        "\n",
        "    with open('PQuAD/Dataset/Test.json') as f:\n",
        "        test = json.load(f)\n",
        "        test = simplify_dataset(test)\n",
        "\n",
        "    return train, validation, test"
      ],
      "metadata": {
        "id": "4NzUnqxuw2Eg"
      },
      "execution_count": 5,
      "outputs": []
    },
    {
      "cell_type": "code",
      "source": [
        "train, validation, test = load_pquad()"
      ],
      "metadata": {
        "id": "GPk3lDcWiHGK"
      },
      "execution_count": 6,
      "outputs": []
    },
    {
      "cell_type": "markdown",
      "source": [
        "## Dataset Statistics"
      ],
      "metadata": {
        "id": "bBMnhl2as_Un"
      }
    },
    {
      "cell_type": "code",
      "source": [
        "def extract_dataset_statistics(dataset):\n",
        "    tmp = pd.json_normalize(dataset)\n",
        "\n",
        "    question_count = len(tmp)\n",
        "    print('total question count =', question_count)\n",
        "\n",
        "    impossible_answers = np.sum(tmp['is_impossible'] == True)\n",
        "    answerability = (1 - impossible_answers / question_count) * 100\n",
        "    print('impossible to answer =', impossible_answers)\n",
        "    print(f'answerability = {answerability:.1f} %\\n')\n",
        "\n",
        "    context_word_count = tmp['context'].str.count(' ') + 1\n",
        "    print('min context words =', int(context_word_count.min()))\n",
        "    print('max context words =', int(context_word_count.max()))\n",
        "    print(f'avg context words = {context_word_count.mean():.1f}\\n')\n",
        "\n",
        "    question_word_count = tmp['question'].str.count(' ') + 1\n",
        "    print('min question words =', int(question_word_count.min()))\n",
        "    print('max question words =', int(question_word_count.max()))\n",
        "    print(f'avg question words = {question_word_count.mean():.1f}\\n')\n",
        "\n",
        "    answer_word_count = tmp['answer.text'].str.count(' ') + 1\n",
        "    print('min answer words =', int(answer_word_count.min()))\n",
        "    print('max answer words =', int(answer_word_count.max()))\n",
        "    print(f'avg answer words = {answer_word_count.mean():.1f}\\n')\n",
        "\n",
        "    del tmp"
      ],
      "metadata": {
        "id": "rBttWjJiaal_"
      },
      "execution_count": 7,
      "outputs": []
    },
    {
      "cell_type": "code",
      "source": [
        "extract_dataset_statistics(train)"
      ],
      "metadata": {
        "colab": {
          "base_uri": "https://localhost:8080/"
        },
        "id": "DiIYivRKoKHe",
        "outputId": "48978f26-54e2-4b76-dca7-dbcb40b95588"
      },
      "execution_count": 8,
      "outputs": [
        {
          "output_type": "stream",
          "name": "stdout",
          "text": [
            "total question count = 63994\n",
            "impossible to answer = 15721\n",
            "answerability = 75.4 %\n",
            "\n",
            "min context words = 7\n",
            "max context words = 274\n",
            "avg context words = 129.1\n",
            "\n",
            "min question words = 2\n",
            "max question words = 256\n",
            "avg question words = 10.4\n",
            "\n",
            "min answer words = 1\n",
            "max answer words = 127\n",
            "avg answer words = 5.2\n",
            "\n"
          ]
        }
      ]
    },
    {
      "cell_type": "code",
      "source": [
        "extract_dataset_statistics(validation)"
      ],
      "metadata": {
        "colab": {
          "base_uri": "https://localhost:8080/"
        },
        "id": "-ZMjRZndra0g",
        "outputId": "c838a0df-f175-4ac9-8621-bb6630a3c0b7"
      },
      "execution_count": 9,
      "outputs": [
        {
          "output_type": "stream",
          "name": "stdout",
          "text": [
            "total question count = 7976\n",
            "impossible to answer = 1981\n",
            "answerability = 75.2 %\n",
            "\n",
            "min context words = 15\n",
            "max context words = 256\n",
            "avg context words = 125.3\n",
            "\n",
            "min question words = 2\n",
            "max question words = 51\n",
            "avg question words = 10.7\n",
            "\n",
            "min answer words = 1\n",
            "max answer words = 157\n",
            "avg answer words = 6.3\n",
            "\n"
          ]
        }
      ]
    },
    {
      "cell_type": "code",
      "source": [
        "extract_dataset_statistics(test)"
      ],
      "metadata": {
        "colab": {
          "base_uri": "https://localhost:8080/"
        },
        "id": "ccvp4S14r1tV",
        "outputId": "d0300d13-df2b-4f13-984f-c74c89c2befc"
      },
      "execution_count": 10,
      "outputs": [
        {
          "output_type": "stream",
          "name": "stdout",
          "text": [
            "total question count = 8002\n",
            "impossible to answer = 1914\n",
            "answerability = 76.1 %\n",
            "\n",
            "min context words = 17\n",
            "max context words = 328\n",
            "avg context words = 128.2\n",
            "\n",
            "min question words = 2\n",
            "max question words = 58\n",
            "avg question words = 10.9\n",
            "\n",
            "min answer words = 1\n",
            "max answer words = 105\n",
            "avg answer words = 5.5\n",
            "\n"
          ]
        }
      ]
    },
    {
      "cell_type": "markdown",
      "source": [
        "## Preprocessing"
      ],
      "metadata": {
        "id": "bAgdMteUtEG1"
      }
    },
    {
      "cell_type": "code",
      "source": [
        "def preprocess_element(entry):\n",
        "\n",
        "    tokenized_entry = tokenizer(\n",
        "        entry[\"question\"],\n",
        "        entry[\"context\"],\n",
        "        truncation=\"only_second\",\n",
        "        max_length=max_length,\n",
        "        stride=doc_stride,\n",
        "        return_overflowing_tokens=True,\n",
        "        return_offsets_mapping=True,\n",
        "        padding=\"max_length\",\n",
        "    )\n",
        "\n",
        "    sample_mapping = tokenized_entry.pop(\"overflow_to_sample_mapping\")\n",
        "    offset_mapping = tokenized_entry.pop(\"offset_mapping\")\n",
        "\n",
        "    tokenized_entry[\"start_positions\"] = []\n",
        "    tokenized_entry[\"end_positions\"] = []\n",
        "\n",
        "    for i, offsets in enumerate(offset_mapping):\n",
        "\n",
        "        input_ids = tokenized_entry[\"input_ids\"][i]\n",
        "        cls_index = input_ids.index(tokenizer.cls_token_id)\n",
        "        sequence_ids = tokenized_entry.sequence_ids(i)\n",
        "\n",
        "        # if no answers are given, set the cls_index as answer\n",
        "        if entry['is_impossible']:\n",
        "            tokenized_entry[\"start_positions\"].append(cls_index)\n",
        "            tokenized_entry[\"end_positions\"].append(cls_index)\n",
        "\n",
        "        else:\n",
        "\n",
        "            answer = entry[\"answer\"]\n",
        "            start_char = answer[\"answer_start\"]\n",
        "            end_char = start_char + len(answer[\"text\"])\n",
        "\n",
        "            # find index of the first context token\n",
        "            token_start_index = 0\n",
        "            while sequence_ids[token_start_index] != 1:\n",
        "                token_start_index += 1\n",
        "\n",
        "            # find index of the last context token\n",
        "            token_end_index = len(input_ids) - 1\n",
        "            while sequence_ids[token_end_index] != 1:\n",
        "                token_end_index -= 1\n",
        "\n",
        "            # if the answer is out of the span it's impossible to answer\n",
        "            if (start_char < offsets[token_start_index][0] or\n",
        "                offsets[token_end_index][1] < end_char):\n",
        "                \n",
        "                tokenized_entry[\"start_positions\"].append(cls_index)\n",
        "                tokenized_entry[\"end_positions\"].append(cls_index)\n",
        "\n",
        "            else:\n",
        "\n",
        "                while (token_start_index < len(offsets) and\n",
        "                    offsets[token_start_index][0] <= start_char):\n",
        "                    token_start_index += 1\n",
        "\n",
        "                while offsets[token_end_index][1] >= end_char:\n",
        "                    token_end_index -= 1\n",
        "\n",
        "                tokenized_entry[\"start_positions\"].append(token_start_index - 1)\n",
        "                tokenized_entry[\"end_positions\"].append(token_end_index + 1)\n",
        "\n",
        "    return tokenized_entry"
      ],
      "metadata": {
        "id": "1Tt0-KPzCv1o"
      },
      "execution_count": 11,
      "outputs": []
    },
    {
      "cell_type": "code",
      "source": [
        "def reformat_dataset(dataset):\n",
        "\n",
        "    X = {\n",
        "        'input_ids': np.stack(dataset['input_ids']),\n",
        "        'token_type_ids': np.stack(dataset['token_type_ids']),\n",
        "        'attention_mask': np.stack(dataset['attention_mask']),\n",
        "    }\n",
        "\n",
        "    Y = {\n",
        "        'start_positions': np.stack(dataset['start_positions']),\n",
        "        'end_positions': np.stack(dataset['end_positions']),\n",
        "    }\n",
        "\n",
        "    return X, Y"
      ],
      "metadata": {
        "id": "mYRblCz8lNiU"
      },
      "execution_count": 12,
      "outputs": []
    },
    {
      "cell_type": "code",
      "source": [
        "def preprocess_dataset(dataset):\n",
        "    X = []\n",
        "\n",
        "    for entry in dataset:\n",
        "        x = preprocess_element(entry)\n",
        "        for i in range(len(x['input_ids'])):\n",
        "            X.append({\n",
        "                'input_ids': np.array(x['input_ids'][i], dtype=np.int32),\n",
        "                'token_type_ids': np.array(x['token_type_ids'][i], dtype=np.int32),\n",
        "                'attention_mask': np.array(x['attention_mask'][i], dtype=np.int32),\n",
        "                'start_positions': to_categorical(x['start_positions'][i], num_classes=max_length),\n",
        "                'end_positions': to_categorical(x['end_positions'][i], num_classes=max_length)\n",
        "            })\n",
        "\n",
        "    return reformat_dataset(pd.DataFrame(X))"
      ],
      "metadata": {
        "id": "lfdG8MMofDQt"
      },
      "execution_count": 13,
      "outputs": []
    },
    {
      "cell_type": "code",
      "source": [
        "X_train, Y_train = preprocess_dataset(train)\n",
        "X_val, Y_val = preprocess_dataset(validation)\n",
        "X_test, Y_test = preprocess_dataset(test)"
      ],
      "metadata": {
        "id": "r-ecQbzCdlLJ"
      },
      "execution_count": 14,
      "outputs": []
    },
    {
      "cell_type": "markdown",
      "source": [
        "## Model"
      ],
      "metadata": {
        "id": "jixbF5HytMlq"
      }
    },
    {
      "cell_type": "markdown",
      "source": [
        "first, we need to load the pretrained base model into the tensorflow environment"
      ],
      "metadata": {
        "id": "gu1cLl0UuPPv"
      }
    },
    {
      "cell_type": "code",
      "source": [
        "base_model = TFAutoModel.from_pretrained(model_name)"
      ],
      "metadata": {
        "id": "FPnqrOBBzcgH",
        "colab": {
          "base_uri": "https://localhost:8080/",
          "height": 160,
          "referenced_widgets": [
            "ae541f8cc6564584ab459ccdcd8868ea",
            "ed7e4ea9e54b431d81dcdd79b47578db",
            "8dc93a92a7184bba8b08bee5dc3e3229",
            "e23805ba42df45de96e1051fca263b55",
            "950b224f9eda4afeaa4cc3b9ee99ec84",
            "714d294e5c2f4c3e887651caa954133b",
            "cdcf1e43cd2e4b8e98c2574f9570f2b5",
            "f59414f1eadb48e29ed9d676aca53b76",
            "0ad78f3c52204fbea4b0eaeb422ea832",
            "a3b37769d7e8430ebcc8b5d9905e3475",
            "998e16cd1ffd44e0bb0832f4af0efef3"
          ]
        },
        "outputId": "b44b27a8-f178-4216-af70-3c5ba5258701"
      },
      "execution_count": 15,
      "outputs": [
        {
          "output_type": "display_data",
          "data": {
            "text/plain": [
              "Downloading tf_model.h5:   0%|          | 0.00/963M [00:00<?, ?B/s]"
            ],
            "application/vnd.jupyter.widget-view+json": {
              "version_major": 2,
              "version_minor": 0,
              "model_id": "ae541f8cc6564584ab459ccdcd8868ea"
            }
          },
          "metadata": {}
        },
        {
          "output_type": "stream",
          "name": "stderr",
          "text": [
            "Some layers from the model checkpoint at HooshvareLab/bert-base-parsbert-uncased were not used when initializing TFBertModel: ['nsp___cls', 'mlm___cls']\n",
            "- This IS expected if you are initializing TFBertModel from the checkpoint of a model trained on another task or with another architecture (e.g. initializing a BertForSequenceClassification model from a BertForPreTraining model).\n",
            "- This IS NOT expected if you are initializing TFBertModel from the checkpoint of a model that you expect to be exactly identical (initializing a BertForSequenceClassification model from a BertForSequenceClassification model).\n",
            "All the layers of TFBertModel were initialized from the model checkpoint at HooshvareLab/bert-base-parsbert-uncased.\n",
            "If your task is similar to the task the model of the checkpoint was trained on, you can already use TFBertModel for predictions without further training.\n"
          ]
        }
      ]
    },
    {
      "cell_type": "code",
      "source": [
        "def build_model():\n",
        "\n",
        "    input_ids = tf.keras.Input(shape=(max_length,), dtype=tf.int32, name=\"input_ids\")\n",
        "    token_type_ids = tf.keras.Input(shape=(max_length,), dtype=tf.int32, name=\"token_type_ids\")\n",
        "    attention_mask = tf.keras.Input(shape=(max_length,), dtype=tf.int32, name=\"attention_mask\")\n",
        "\n",
        "    encoded = base_model(\n",
        "        input_ids=input_ids,\n",
        "        token_type_ids=token_type_ids,\n",
        "        attention_mask=attention_mask\n",
        "    )[0]\n",
        "\n",
        "    start_positions = tf.keras.layers.Dense(1)(encoded)\n",
        "    start_positions = tf.keras.layers.Flatten()(start_positions)\n",
        "    start_positions = tf.keras.layers.Softmax(name='start_positions')(start_positions)\n",
        "\n",
        "    end_positions = tf.keras.layers.Dense(1)(encoded)\n",
        "    end_positions = tf.keras.layers.Flatten()(end_positions)\n",
        "    end_positions = tf.keras.layers.Softmax(name='end_positions')(end_positions)\n",
        "\n",
        "    model = tf.keras.models.Model(\n",
        "        inputs=[input_ids, token_type_ids, attention_mask],\n",
        "        outputs=[start_positions, end_positions]\n",
        "    )\n",
        "\n",
        "    return model"
      ],
      "metadata": {
        "id": "ASxHzaNi5VaY"
      },
      "execution_count": 16,
      "outputs": []
    },
    {
      "cell_type": "code",
      "source": [
        "def custom_loss_function(y_true, y_pred):\n",
        "\n",
        "    loss_1 = tf.keras.losses.categorical_crossentropy(y_true[0], y_pred[0])\n",
        "    loss_2 = tf.keras.losses.categorical_crossentropy(y_true[1], y_pred[1])\n",
        "\n",
        "    return loss_1 + loss_2"
      ],
      "metadata": {
        "id": "e5BY4YTCySul"
      },
      "execution_count": 17,
      "outputs": []
    },
    {
      "cell_type": "code",
      "source": [
        "model = build_model()\n",
        "\n",
        "optimizer = tf.keras.optimizers.Adam(learning_rate=5e-5)\n",
        "model.compile(optimizer=optimizer, loss=custom_loss_function)"
      ],
      "metadata": {
        "id": "S8zmzXq2rgut"
      },
      "execution_count": 18,
      "outputs": []
    },
    {
      "cell_type": "code",
      "source": [
        "model.fit(X_train, Y_train,\n",
        "    validation_data=(X_val, Y_val),\n",
        "    batch_size=40, epochs=2)"
      ],
      "metadata": {
        "id": "9BT5iYuvv4bt",
        "colab": {
          "base_uri": "https://localhost:8080/"
        },
        "outputId": "042cbc41-0c37-40f3-e776-1a49ff3cb318"
      },
      "execution_count": 19,
      "outputs": [
        {
          "output_type": "stream",
          "name": "stdout",
          "text": [
            "Epoch 1/2\n"
          ]
        },
        {
          "output_type": "stream",
          "name": "stderr",
          "text": [
            "WARNING:tensorflow:Gradients do not exist for variables ['tf_bert_model/bert/pooler/dense/kernel:0', 'tf_bert_model/bert/pooler/dense/bias:0'] when minimizing the loss. If you're using `model.compile()`, did you forget to provide a `loss` argument?\n",
            "WARNING:tensorflow:Gradients do not exist for variables ['tf_bert_model/bert/pooler/dense/kernel:0', 'tf_bert_model/bert/pooler/dense/bias:0'] when minimizing the loss. If you're using `model.compile()`, did you forget to provide a `loss` argument?\n",
            "WARNING:tensorflow:Gradients do not exist for variables ['tf_bert_model/bert/pooler/dense/kernel:0', 'tf_bert_model/bert/pooler/dense/bias:0'] when minimizing the loss. If you're using `model.compile()`, did you forget to provide a `loss` argument?\n",
            "WARNING:tensorflow:Gradients do not exist for variables ['tf_bert_model/bert/pooler/dense/kernel:0', 'tf_bert_model/bert/pooler/dense/bias:0'] when minimizing the loss. If you're using `model.compile()`, did you forget to provide a `loss` argument?\n"
          ]
        },
        {
          "output_type": "stream",
          "name": "stdout",
          "text": [
            "3073/3073 [==============================] - 3120s 1s/step - loss: 4.9717 - start_positions_loss: 2.5464 - end_positions_loss: 2.4253 - val_loss: 3.5286 - val_start_positions_loss: 1.7467 - val_end_positions_loss: 1.7819\n",
            "Epoch 2/2\n",
            "3073/3073 [==============================] - 3071s 999ms/step - loss: 4.2786 - start_positions_loss: 2.1546 - end_positions_loss: 2.1240 - val_loss: 3.4860 - val_start_positions_loss: 1.7575 - val_end_positions_loss: 1.7285\n"
          ]
        },
        {
          "output_type": "execute_result",
          "data": {
            "text/plain": [
              "<keras.callbacks.History at 0x7f33f0660bb0>"
            ]
          },
          "metadata": {},
          "execution_count": 19
        }
      ]
    },
    {
      "cell_type": "markdown",
      "source": [
        "## Performance Metrics"
      ],
      "metadata": {
        "id": "wwBrSvKVIGnd"
      }
    },
    {
      "cell_type": "code",
      "source": [
        "model.evaluate(X_test, Y_test)"
      ],
      "metadata": {
        "id": "fMbz2Kj3wi1O",
        "colab": {
          "base_uri": "https://localhost:8080/"
        },
        "outputId": "540d0f2a-a3d0-47dd-e0f3-33cea7a4018f"
      },
      "execution_count": 32,
      "outputs": [
        {
          "output_type": "stream",
          "name": "stdout",
          "text": [
            "485/485 [==============================] - 134s 277ms/step - loss: 4.1289 - start_positions_loss: 2.1642 - end_positions_loss: 1.9647\n"
          ]
        },
        {
          "output_type": "execute_result",
          "data": {
            "text/plain": [
              "[4.1288628578186035, 2.164177417755127, 1.9646871089935303]"
            ]
          },
          "metadata": {},
          "execution_count": 32
        }
      ]
    },
    {
      "cell_type": "code",
      "source": [
        "Y_pred = model.predict(X_test)"
      ],
      "metadata": {
        "colab": {
          "base_uri": "https://localhost:8080/"
        },
        "id": "jUfpsQi3GMpX",
        "outputId": "f4deadb0-d301-4952-ce16-fd27a4c032c8"
      },
      "execution_count": 35,
      "outputs": [
        {
          "output_type": "stream",
          "name": "stdout",
          "text": [
            "485/485 [==============================] - 137s 271ms/step\n"
          ]
        }
      ]
    },
    {
      "cell_type": "code",
      "source": [
        "def compute_exact_match(Y_test, Y_pred):\n",
        "    start_pred = np.argmax(Y_pred[0], axis=1)\n",
        "    end_pred = np.argmax(Y_pred[1], axis=1)\n",
        "\n",
        "    start_true = np.argmax(Y_test['start_positions'], axis=1)\n",
        "    end_true = np.argmax(Y_test['end_positions'], axis=1)\n",
        "\n",
        "    correct_predictions = 0\n",
        "    total_questions = len(start_pred)\n",
        "\n",
        "    for i in range(total_questions):\n",
        "        if start_true[i] == start_pred[i] and end_true[i] == end_pred[i]:\n",
        "            correct_predictions += 1\n",
        "\n",
        "    accuracy = (correct_predictions / total_questions) * 100\n",
        "    return accuracy"
      ],
      "metadata": {
        "id": "3UNH5YSLHzEp"
      },
      "execution_count": 43,
      "outputs": []
    },
    {
      "cell_type": "code",
      "source": [
        "def mean_f1_score(Y_test, Y_pred):\n",
        "    start_pred = np.argmax(Y_pred[0], axis=1)\n",
        "    end_pred = np.argmax(Y_pred[1], axis=1)\n",
        "\n",
        "    start_true = np.argmax(Y_test['start_positions'], axis=1)\n",
        "    end_true = np.argmax(Y_test['end_positions'], axis=1)\n",
        "\n",
        "    return 50 * (f1_score(start_true, start_pred, average='micro') + f1_score(end_true, end_pred, average='micro'))"
      ],
      "metadata": {
        "id": "IVGzF_6qMxuz"
      },
      "execution_count": 51,
      "outputs": []
    },
    {
      "cell_type": "code",
      "source": [
        "print(f'exact match = {compute_exact_match(Y_test, Y_pred):.1f} %')\n",
        "print(f'f1 score = {mean_f1_score(Y_test, Y_pred):.1f} %')"
      ],
      "metadata": {
        "colab": {
          "base_uri": "https://localhost:8080/"
        },
        "id": "d_y2iOpsJ-bE",
        "outputId": "0daf7e88-8b7e-4f4d-bd12-309fecdcf06f"
      },
      "execution_count": 52,
      "outputs": [
        {
          "output_type": "stream",
          "name": "stdout",
          "text": [
            "exact match = 67.8 %\n",
            "f1 score = 74.4 %\n"
          ]
        }
      ]
    },
    {
      "cell_type": "markdown",
      "source": [
        "## Example Tests"
      ],
      "metadata": {
        "id": "IFvk0Qu-H_cu"
      }
    },
    {
      "cell_type": "code",
      "source": [
        "def display_example(i):\n",
        "\n",
        "    print('question :', test[i]['question'])\n",
        "\n",
        "    example = [test[i]]\n",
        "    X_example, Y_example = preprocess_dataset(example)\n",
        "\n",
        "    res = model(X_example)\n",
        "    start = np.argmax(res[0][0])\n",
        "    end = np.argmax(res[1][0])\n",
        "\n",
        "    print('answer :', tokenizer.decode(X_example['input_ids'][0][start:end+1]))"
      ],
      "metadata": {
        "id": "QzQ1cHLhxVe5"
      },
      "execution_count": 20,
      "outputs": []
    },
    {
      "cell_type": "code",
      "source": [
        "display_example(0)"
      ],
      "metadata": {
        "id": "sOLUcAd5zI1e",
        "colab": {
          "base_uri": "https://localhost:8080/"
        },
        "outputId": "1bf98de9-6350-414e-ec43-ad5940c107ab"
      },
      "execution_count": 21,
      "outputs": [
        {
          "output_type": "stream",
          "name": "stdout",
          "text": [
            "question : کتاب مقدس دین اسلام چیست؟\n",
            "answer : قران\n"
          ]
        }
      ]
    },
    {
      "cell_type": "code",
      "source": [
        "display_example(5)"
      ],
      "metadata": {
        "colab": {
          "base_uri": "https://localhost:8080/"
        },
        "id": "0WRS5-iFEXec",
        "outputId": "3a3a0aa3-d78f-43dd-81ec-b159f3557e54"
      },
      "execution_count": 33,
      "outputs": [
        {
          "output_type": "stream",
          "name": "stdout",
          "text": [
            "question : قرآن به چه زبانی است؟\n",
            "answer : عربی\n"
          ]
        }
      ]
    },
    {
      "cell_type": "code",
      "source": [
        "display_example(10)"
      ],
      "metadata": {
        "colab": {
          "base_uri": "https://localhost:8080/"
        },
        "id": "VcSRaAC-EbAM",
        "outputId": "83fd4da4-1fab-4231-f892-a2b3dd23d4fa"
      },
      "execution_count": 22,
      "outputs": [
        {
          "output_type": "stream",
          "name": "stdout",
          "text": [
            "question : وحی چیست؟\n",
            "answer : [CLS]\n"
          ]
        }
      ]
    },
    {
      "cell_type": "code",
      "source": [
        "display_example(100)"
      ],
      "metadata": {
        "colab": {
          "base_uri": "https://localhost:8080/"
        },
        "id": "8qMmDbMLEeqk",
        "outputId": "207e9ef2-7905-46e3-a860-a379fe636ef1"
      },
      "execution_count": 23,
      "outputs": [
        {
          "output_type": "stream",
          "name": "stdout",
          "text": [
            "question : از آغاز تأسیس دارالفنون چه کسانی به مخالفت با آن پرداختند؟\n",
            "answer : برخی از درباریان\n"
          ]
        }
      ]
    },
    {
      "cell_type": "code",
      "source": [
        "display_example(250)"
      ],
      "metadata": {
        "colab": {
          "base_uri": "https://localhost:8080/"
        },
        "id": "pmSd7JdoFEhM",
        "outputId": "763d70f1-6a41-462c-89ce-1225d0c279f4"
      },
      "execution_count": 27,
      "outputs": [
        {
          "output_type": "stream",
          "name": "stdout",
          "text": [
            "question : افزوده شدن شمشیر به نقش شیر و خورشید به چه زمانی برمی‌گردد؟\n",
            "answer : دوران قاجار\n"
          ]
        }
      ]
    }
  ]
}